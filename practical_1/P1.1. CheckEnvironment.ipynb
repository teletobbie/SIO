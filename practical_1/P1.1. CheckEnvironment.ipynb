{
 "cells": [
  {
   "cell_type": "code",
   "execution_count": 1,
   "id": "4d973d3b",
   "metadata": {},
   "outputs": [
    {
     "name": "stdout",
     "output_type": "stream",
     "text": [
      "The Python version is 3.8.12 (default, Oct 12 2021, 03:01:40) [MSC v.1916 64 bit (AMD64)].\n",
      "\n",
      "The Numpy version is 1.20.3.\n",
      "\n",
      "The Pandas version is 1.3.4.\n",
      "\n",
      "The Matplotlib version is 3.4.3.\n",
      "\n",
      "The Scikit-Learn version is 1.0.1.\n",
      "\n"
     ]
    }
   ],
   "source": [
    "import sys\n",
    "import numpy as np\n",
    "import pandas as pd\n",
    "import matplotlib as mpl\n",
    "import sklearn\n",
    "print('The Python version is {}.\\n'.format(sys.version))\n",
    "print('The Numpy version is {}.\\n'.format(np.__version__))\n",
    "print('The Pandas version is {}.\\n'.format(pd.__version__))\n",
    "print('The Matplotlib version is {}.\\n'.format(mpl.__version__))\n",
    "print('The Scikit-Learn version is {}.\\n'.format(sklearn.__version__))"
   ]
  },
  {
   "cell_type": "code",
   "execution_count": null,
   "id": "492131bc",
   "metadata": {},
   "outputs": [],
   "source": []
  }
 ],
 "metadata": {
  "kernelspec": {
   "display_name": "Python 3 (ipykernel)",
   "language": "python",
   "name": "python3"
  },
  "language_info": {
   "codemirror_mode": {
    "name": "ipython",
    "version": 3
   },
   "file_extension": ".py",
   "mimetype": "text/x-python",
   "name": "python",
   "nbconvert_exporter": "python",
   "pygments_lexer": "ipython3",
   "version": "3.8.12"
  }
 },
 "nbformat": 4,
 "nbformat_minor": 5
}
