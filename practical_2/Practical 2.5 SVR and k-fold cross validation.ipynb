{
 "cells": [
  {
   "cell_type": "markdown",
   "id": "3aa2b292",
   "metadata": {},
   "source": [
    "# The dataset"
   ]
  },
  {
   "cell_type": "markdown",
   "id": "3a51d325",
   "metadata": {},
   "source": [
    "We will explore regression models using a standard bencharking dataset, the AMES Housing data. This comprises data about individual housing property in AMES, Iowa, USA, from 2006-2010. More information on the data set can be found here: \n",
    "Dataset description -  http://jse.amstat.org/v19n3/decock.pdf\n",
    "Dataset documentation http://jse.amstat.org/v19n3/decock/DataDocumentation.txt\n",
    "The actual dataset in text, tab-separated format: http://jse.amstat.org/v19n3/decock/AmesHousing.txt"
   ]
  },
  {
   "cell_type": "code",
   "execution_count": 5,
   "id": "cfb75954",
   "metadata": {},
   "outputs": [],
   "source": [
    "import pandas as pd"
   ]
  },
  {
   "cell_type": "markdown",
   "id": "16355dec",
   "metadata": {},
   "source": [
    "We will not use the complete set of attributes in the dataset but we will downselect specific ones: \n",
    "\n",
    "Overall Qual (Ordinal): Rates the overall material and finish of the house\n",
    "       10\tVery Excellent\n",
    "       9\tExcellent\n",
    "       8\tVery Good\n",
    "       7\tGood\n",
    "       6\tAbove Average\n",
    "       5\tAverage\n",
    "       4\tBelow Average\n",
    "       3\tFair\n",
    "       2\tPoor\n",
    "       1\tVery Poor\n",
    "       \n",
    "Overall Cond (Ordinal): Rates the overall condition of the house\n",
    "       10\tVery Excellent\n",
    "       9\tExcellent\n",
    "       8\tVery Good\n",
    "       7\tGood\n",
    "       6\tAbove Average\t\n",
    "       5\tAverage\n",
    "       4\tBelow Average\t\n",
    "       3\tFair\n",
    "       2\tPoor\n",
    "       1\tVery Poor \n",
    "       \n",
    "Gr Liv Area (Continuous): Above grade (ground) living area square feet\n",
    "\n",
    "entral Air (Nominal): Central air conditioning\n",
    "       N\tNo\n",
    "       Y\tYes\n",
    "\n",
    "total Bsmt SF (Continuous): Total square feet of basement area\n",
    "\n",
    "SalePrice (Continuous): Sale price in $$"
   ]
  },
  {
   "cell_type": "code",
   "execution_count": 6,
   "id": "db69be54",
   "metadata": {},
   "outputs": [],
   "source": [
    "columns = ['Overall Qual', 'Overall Cond', 'Gr Liv Area', 'Central Air', 'Total Bsmt SF', 'SalePrice']"
   ]
  },
  {
   "cell_type": "code",
   "execution_count": 7,
   "id": "1e9d8caf",
   "metadata": {},
   "outputs": [],
   "source": [
    "df = pd.read_csv('http://jse.amstat.org/v19n3/decock/AmesHousing.txt',sep='\\t',usecols=columns)"
   ]
  },
  {
   "cell_type": "markdown",
   "id": "05e797d3",
   "metadata": {},
   "source": [
    "We can also read the data set locally"
   ]
  },
  {
   "cell_type": "code",
   "execution_count": 8,
   "id": "ba3c29fe",
   "metadata": {},
   "outputs": [],
   "source": [
    "df = pd.read_csv('AmesHousing.txt',sep='\\t',usecols=columns)"
   ]
  },
  {
   "cell_type": "markdown",
   "id": "271abd21",
   "metadata": {},
   "source": [
    "Let's inspect the first 5 lines of the dataframe populated with the data"
   ]
  },
  {
   "cell_type": "code",
   "execution_count": 9,
   "id": "15d7a1da",
   "metadata": {},
   "outputs": [
    {
     "data": {
      "text/html": [
       "<div>\n",
       "<style scoped>\n",
       "    .dataframe tbody tr th:only-of-type {\n",
       "        vertical-align: middle;\n",
       "    }\n",
       "\n",
       "    .dataframe tbody tr th {\n",
       "        vertical-align: top;\n",
       "    }\n",
       "\n",
       "    .dataframe thead th {\n",
       "        text-align: right;\n",
       "    }\n",
       "</style>\n",
       "<table border=\"1\" class=\"dataframe\">\n",
       "  <thead>\n",
       "    <tr style=\"text-align: right;\">\n",
       "      <th></th>\n",
       "      <th>Overall Qual</th>\n",
       "      <th>Overall Cond</th>\n",
       "      <th>Total Bsmt SF</th>\n",
       "      <th>Central Air</th>\n",
       "      <th>Gr Liv Area</th>\n",
       "      <th>SalePrice</th>\n",
       "    </tr>\n",
       "  </thead>\n",
       "  <tbody>\n",
       "    <tr>\n",
       "      <th>0</th>\n",
       "      <td>6</td>\n",
       "      <td>5</td>\n",
       "      <td>1080.0</td>\n",
       "      <td>Y</td>\n",
       "      <td>1656</td>\n",
       "      <td>215000</td>\n",
       "    </tr>\n",
       "    <tr>\n",
       "      <th>1</th>\n",
       "      <td>5</td>\n",
       "      <td>6</td>\n",
       "      <td>882.0</td>\n",
       "      <td>Y</td>\n",
       "      <td>896</td>\n",
       "      <td>105000</td>\n",
       "    </tr>\n",
       "    <tr>\n",
       "      <th>2</th>\n",
       "      <td>6</td>\n",
       "      <td>6</td>\n",
       "      <td>1329.0</td>\n",
       "      <td>Y</td>\n",
       "      <td>1329</td>\n",
       "      <td>172000</td>\n",
       "    </tr>\n",
       "    <tr>\n",
       "      <th>3</th>\n",
       "      <td>7</td>\n",
       "      <td>5</td>\n",
       "      <td>2110.0</td>\n",
       "      <td>Y</td>\n",
       "      <td>2110</td>\n",
       "      <td>244000</td>\n",
       "    </tr>\n",
       "    <tr>\n",
       "      <th>4</th>\n",
       "      <td>5</td>\n",
       "      <td>5</td>\n",
       "      <td>928.0</td>\n",
       "      <td>Y</td>\n",
       "      <td>1629</td>\n",
       "      <td>189900</td>\n",
       "    </tr>\n",
       "  </tbody>\n",
       "</table>\n",
       "</div>"
      ],
      "text/plain": [
       "   Overall Qual  Overall Cond  Total Bsmt SF Central Air  Gr Liv Area  \\\n",
       "0             6             5         1080.0           Y         1656   \n",
       "1             5             6          882.0           Y          896   \n",
       "2             6             6         1329.0           Y         1329   \n",
       "3             7             5         2110.0           Y         2110   \n",
       "4             5             5          928.0           Y         1629   \n",
       "\n",
       "   SalePrice  \n",
       "0     215000  \n",
       "1     105000  \n",
       "2     172000  \n",
       "3     244000  \n",
       "4     189900  "
      ]
     },
     "execution_count": 9,
     "metadata": {},
     "output_type": "execute_result"
    }
   ],
   "source": [
    "df.head()"
   ]
  },
  {
   "cell_type": "markdown",
   "id": "3d8920de",
   "metadata": {},
   "source": [
    "All attributes above are numerical, apart from Central Air"
   ]
  },
  {
   "cell_type": "markdown",
   "id": "fc025a18",
   "metadata": {},
   "source": [
    "Let's inspect also the shape / dimensions of the dataset"
   ]
  },
  {
   "cell_type": "code",
   "execution_count": 10,
   "id": "56707bed",
   "metadata": {},
   "outputs": [
    {
     "data": {
      "text/plain": [
       "(2930, 6)"
      ]
     },
     "execution_count": 10,
     "metadata": {},
     "output_type": "execute_result"
    }
   ],
   "source": [
    "df.shape"
   ]
  },
  {
   "cell_type": "markdown",
   "id": "b41ef68a",
   "metadata": {},
   "source": [
    "We can convert the Central Air varariable to a numerical one by mapping 'N' values to 0 and 'Y' values to 1 and inspect the data again."
   ]
  },
  {
   "cell_type": "code",
   "execution_count": 11,
   "id": "fcb1f6f5",
   "metadata": {},
   "outputs": [],
   "source": [
    "df['Central Air'] = df['Central Air'].map({'N': 0, 'Y': 1})"
   ]
  },
  {
   "cell_type": "code",
   "execution_count": 12,
   "id": "dd090b02",
   "metadata": {},
   "outputs": [
    {
     "data": {
      "text/html": [
       "<div>\n",
       "<style scoped>\n",
       "    .dataframe tbody tr th:only-of-type {\n",
       "        vertical-align: middle;\n",
       "    }\n",
       "\n",
       "    .dataframe tbody tr th {\n",
       "        vertical-align: top;\n",
       "    }\n",
       "\n",
       "    .dataframe thead th {\n",
       "        text-align: right;\n",
       "    }\n",
       "</style>\n",
       "<table border=\"1\" class=\"dataframe\">\n",
       "  <thead>\n",
       "    <tr style=\"text-align: right;\">\n",
       "      <th></th>\n",
       "      <th>Overall Qual</th>\n",
       "      <th>Overall Cond</th>\n",
       "      <th>Total Bsmt SF</th>\n",
       "      <th>Central Air</th>\n",
       "      <th>Gr Liv Area</th>\n",
       "      <th>SalePrice</th>\n",
       "    </tr>\n",
       "  </thead>\n",
       "  <tbody>\n",
       "    <tr>\n",
       "      <th>0</th>\n",
       "      <td>6</td>\n",
       "      <td>5</td>\n",
       "      <td>1080.0</td>\n",
       "      <td>1</td>\n",
       "      <td>1656</td>\n",
       "      <td>215000</td>\n",
       "    </tr>\n",
       "    <tr>\n",
       "      <th>1</th>\n",
       "      <td>5</td>\n",
       "      <td>6</td>\n",
       "      <td>882.0</td>\n",
       "      <td>1</td>\n",
       "      <td>896</td>\n",
       "      <td>105000</td>\n",
       "    </tr>\n",
       "    <tr>\n",
       "      <th>2</th>\n",
       "      <td>6</td>\n",
       "      <td>6</td>\n",
       "      <td>1329.0</td>\n",
       "      <td>1</td>\n",
       "      <td>1329</td>\n",
       "      <td>172000</td>\n",
       "    </tr>\n",
       "    <tr>\n",
       "      <th>3</th>\n",
       "      <td>7</td>\n",
       "      <td>5</td>\n",
       "      <td>2110.0</td>\n",
       "      <td>1</td>\n",
       "      <td>2110</td>\n",
       "      <td>244000</td>\n",
       "    </tr>\n",
       "    <tr>\n",
       "      <th>4</th>\n",
       "      <td>5</td>\n",
       "      <td>5</td>\n",
       "      <td>928.0</td>\n",
       "      <td>1</td>\n",
       "      <td>1629</td>\n",
       "      <td>189900</td>\n",
       "    </tr>\n",
       "  </tbody>\n",
       "</table>\n",
       "</div>"
      ],
      "text/plain": [
       "   Overall Qual  Overall Cond  Total Bsmt SF  Central Air  Gr Liv Area  \\\n",
       "0             6             5         1080.0            1         1656   \n",
       "1             5             6          882.0            1          896   \n",
       "2             6             6         1329.0            1         1329   \n",
       "3             7             5         2110.0            1         2110   \n",
       "4             5             5          928.0            1         1629   \n",
       "\n",
       "   SalePrice  \n",
       "0     215000  \n",
       "1     105000  \n",
       "2     172000  \n",
       "3     244000  \n",
       "4     189900  "
      ]
     },
     "execution_count": 12,
     "metadata": {},
     "output_type": "execute_result"
    }
   ],
   "source": [
    "df.head()"
   ]
  },
  {
   "cell_type": "markdown",
   "id": "0b186634",
   "metadata": {},
   "source": [
    "Before progressing any further, let's check for missing values using the isnull() method of the dataframe"
   ]
  },
  {
   "cell_type": "code",
   "execution_count": 13,
   "id": "0eee7624",
   "metadata": {},
   "outputs": [
    {
     "data": {
      "text/plain": [
       "Overall Qual     0\n",
       "Overall Cond     0\n",
       "Total Bsmt SF    1\n",
       "Central Air      0\n",
       "Gr Liv Area      0\n",
       "SalePrice        0\n",
       "dtype: int64"
      ]
     },
     "execution_count": 13,
     "metadata": {},
     "output_type": "execute_result"
    }
   ],
   "source": [
    "df.isnull().sum()"
   ]
  },
  {
   "cell_type": "markdown",
   "id": "a02c2c76",
   "metadata": {},
   "source": [
    "We have counted '1' missing value in the Total Bsmt SF attribute. As this is in just one record, the simplest approach without sacrificing much information from the dataset is to remove this record. We will use a method which drops \"non a number\" records. "
   ]
  },
  {
   "cell_type": "code",
   "execution_count": 14,
   "id": "eb84e8b4",
   "metadata": {},
   "outputs": [],
   "source": [
    "df = df.dropna(axis=0)"
   ]
  },
  {
   "cell_type": "code",
   "execution_count": 15,
   "id": "af23aa39",
   "metadata": {},
   "outputs": [
    {
     "data": {
      "text/plain": [
       "Overall Qual     0\n",
       "Overall Cond     0\n",
       "Total Bsmt SF    0\n",
       "Central Air      0\n",
       "Gr Liv Area      0\n",
       "SalePrice        0\n",
       "dtype: int64"
      ]
     },
     "execution_count": 15,
     "metadata": {},
     "output_type": "execute_result"
    }
   ],
   "source": [
    "df.isnull().sum()"
   ]
  },
  {
   "cell_type": "markdown",
   "id": "efbbac4d",
   "metadata": {},
   "source": [
    "Good - no missing values any more"
   ]
  },
  {
   "cell_type": "markdown",
   "id": "eca79e3a",
   "metadata": {},
   "source": [
    "# Applying Support Vector Regresson (SVR)"
   ]
  },
  {
   "cell_type": "code",
   "execution_count": 37,
   "id": "6c14385f",
   "metadata": {},
   "outputs": [],
   "source": [
    "from sklearn.model_selection import train_test_split\n",
    "import numpy as np\n",
    "from sklearn.metrics import mean_absolute_error, mean_squared_error\n",
    "import matplotlib.pyplot as plt"
   ]
  },
  {
   "cell_type": "code",
   "execution_count": 38,
   "id": "edf81c15",
   "metadata": {},
   "outputs": [],
   "source": [
    "target = 'SalePrice'\n",
    "features = df.columns[df.columns != target]\n",
    "X = df[features].values\n",
    "y = df[target].values\n",
    "X_train, X_test, y_train, y_test = train_test_split(\n",
    "X, y, test_size=0.3, random_state=123)"
   ]
  },
  {
   "cell_type": "code",
   "execution_count": 39,
   "id": "38142570",
   "metadata": {},
   "outputs": [],
   "source": [
    "from sklearn.preprocessing import StandardScaler\n",
    "scaler = StandardScaler()\n",
    "# Fit only on X_train\n",
    "scaler.fit(X_train)\n",
    "# Scale both X_train and X_test\n",
    "X_train = scaler.transform(X_train)\n",
    "X_test = scaler.transform(X_test)"
   ]
  },
  {
   "cell_type": "code",
   "execution_count": 40,
   "id": "7f8f7d9a",
   "metadata": {},
   "outputs": [],
   "source": [
    "from sklearn.svm import SVR"
   ]
  },
  {
   "cell_type": "code",
   "execution_count": 48,
   "id": "26be4894",
   "metadata": {},
   "outputs": [],
   "source": [
    "regressor = SVR(kernel='rbf')"
   ]
  },
  {
   "cell_type": "code",
   "execution_count": 49,
   "id": "e4306652",
   "metadata": {},
   "outputs": [
    {
     "data": {
      "text/html": [
       "<style>#sk-container-id-8 {color: black;background-color: white;}#sk-container-id-8 pre{padding: 0;}#sk-container-id-8 div.sk-toggleable {background-color: white;}#sk-container-id-8 label.sk-toggleable__label {cursor: pointer;display: block;width: 100%;margin-bottom: 0;padding: 0.3em;box-sizing: border-box;text-align: center;}#sk-container-id-8 label.sk-toggleable__label-arrow:before {content: \"▸\";float: left;margin-right: 0.25em;color: #696969;}#sk-container-id-8 label.sk-toggleable__label-arrow:hover:before {color: black;}#sk-container-id-8 div.sk-estimator:hover label.sk-toggleable__label-arrow:before {color: black;}#sk-container-id-8 div.sk-toggleable__content {max-height: 0;max-width: 0;overflow: hidden;text-align: left;background-color: #f0f8ff;}#sk-container-id-8 div.sk-toggleable__content pre {margin: 0.2em;color: black;border-radius: 0.25em;background-color: #f0f8ff;}#sk-container-id-8 input.sk-toggleable__control:checked~div.sk-toggleable__content {max-height: 200px;max-width: 100%;overflow: auto;}#sk-container-id-8 input.sk-toggleable__control:checked~label.sk-toggleable__label-arrow:before {content: \"▾\";}#sk-container-id-8 div.sk-estimator input.sk-toggleable__control:checked~label.sk-toggleable__label {background-color: #d4ebff;}#sk-container-id-8 div.sk-label input.sk-toggleable__control:checked~label.sk-toggleable__label {background-color: #d4ebff;}#sk-container-id-8 input.sk-hidden--visually {border: 0;clip: rect(1px 1px 1px 1px);clip: rect(1px, 1px, 1px, 1px);height: 1px;margin: -1px;overflow: hidden;padding: 0;position: absolute;width: 1px;}#sk-container-id-8 div.sk-estimator {font-family: monospace;background-color: #f0f8ff;border: 1px dotted black;border-radius: 0.25em;box-sizing: border-box;margin-bottom: 0.5em;}#sk-container-id-8 div.sk-estimator:hover {background-color: #d4ebff;}#sk-container-id-8 div.sk-parallel-item::after {content: \"\";width: 100%;border-bottom: 1px solid gray;flex-grow: 1;}#sk-container-id-8 div.sk-label:hover label.sk-toggleable__label {background-color: #d4ebff;}#sk-container-id-8 div.sk-serial::before {content: \"\";position: absolute;border-left: 1px solid gray;box-sizing: border-box;top: 0;bottom: 0;left: 50%;z-index: 0;}#sk-container-id-8 div.sk-serial {display: flex;flex-direction: column;align-items: center;background-color: white;padding-right: 0.2em;padding-left: 0.2em;position: relative;}#sk-container-id-8 div.sk-item {position: relative;z-index: 1;}#sk-container-id-8 div.sk-parallel {display: flex;align-items: stretch;justify-content: center;background-color: white;position: relative;}#sk-container-id-8 div.sk-item::before, #sk-container-id-8 div.sk-parallel-item::before {content: \"\";position: absolute;border-left: 1px solid gray;box-sizing: border-box;top: 0;bottom: 0;left: 50%;z-index: -1;}#sk-container-id-8 div.sk-parallel-item {display: flex;flex-direction: column;z-index: 1;position: relative;background-color: white;}#sk-container-id-8 div.sk-parallel-item:first-child::after {align-self: flex-end;width: 50%;}#sk-container-id-8 div.sk-parallel-item:last-child::after {align-self: flex-start;width: 50%;}#sk-container-id-8 div.sk-parallel-item:only-child::after {width: 0;}#sk-container-id-8 div.sk-dashed-wrapped {border: 1px dashed gray;margin: 0 0.4em 0.5em 0.4em;box-sizing: border-box;padding-bottom: 0.4em;background-color: white;}#sk-container-id-8 div.sk-label label {font-family: monospace;font-weight: bold;display: inline-block;line-height: 1.2em;}#sk-container-id-8 div.sk-label-container {text-align: center;}#sk-container-id-8 div.sk-container {/* jupyter's `normalize.less` sets `[hidden] { display: none; }` but bootstrap.min.css set `[hidden] { display: none !important; }` so we also need the `!important` here to be able to override the default hidden behavior on the sphinx rendered scikit-learn.org. See: https://github.com/scikit-learn/scikit-learn/issues/21755 */display: inline-block !important;position: relative;}#sk-container-id-8 div.sk-text-repr-fallback {display: none;}</style><div id=\"sk-container-id-8\" class=\"sk-top-container\"><div class=\"sk-text-repr-fallback\"><pre>SVR()</pre><b>In a Jupyter environment, please rerun this cell to show the HTML representation or trust the notebook. <br />On GitHub, the HTML representation is unable to render, please try loading this page with nbviewer.org.</b></div><div class=\"sk-container\" hidden><div class=\"sk-item\"><div class=\"sk-estimator sk-toggleable\"><input class=\"sk-toggleable__control sk-hidden--visually\" id=\"sk-estimator-id-8\" type=\"checkbox\" checked><label for=\"sk-estimator-id-8\" class=\"sk-toggleable__label sk-toggleable__label-arrow\">SVR</label><div class=\"sk-toggleable__content\"><pre>SVR()</pre></div></div></div></div></div>"
      ],
      "text/plain": [
       "SVR()"
      ]
     },
     "execution_count": 49,
     "metadata": {},
     "output_type": "execute_result"
    }
   ],
   "source": [
    "regressor.fit(X_train,y_train)"
   ]
  },
  {
   "cell_type": "code",
   "execution_count": 50,
   "id": "d9dfcb01",
   "metadata": {},
   "outputs": [],
   "source": [
    "y_pred = regressor.predict(X_test)"
   ]
  },
  {
   "cell_type": "code",
   "execution_count": 52,
   "id": "5c0f2528",
   "metadata": {},
   "outputs": [
    {
     "name": "stdout",
     "output_type": "stream",
     "text": [
      "mae: 54472.012672406\n",
      "mse: 6415620349.938111\n",
      "rmse: 80097.56769052423\n",
      "-0.050928099860566345\n"
     ]
    }
   ],
   "source": [
    "mae = mean_absolute_error(y_test, y_pred)\n",
    "mse = mean_squared_error(y_test, y_pred)\n",
    "rmse = mean_squared_error(y_test, y_pred, squared=False)\n",
    "print(f'mae: {mae}')\n",
    "print(f'mse: {mse}')\n",
    "print(f'rmse: {rmse}')\n",
    "print(regressor.score(X_test, y_test))"
   ]
  },
  {
   "cell_type": "markdown",
   "id": "5653ada1",
   "metadata": {},
   "source": [
    "# k-fold cross-validation"
   ]
  },
  {
   "cell_type": "code",
   "execution_count": 53,
   "id": "d08835e2",
   "metadata": {},
   "outputs": [],
   "source": [
    "from sklearn.model_selection import KFold\n",
    "from sklearn.model_selection import cross_val_score\n",
    "from sklearn.metrics import mean_squared_error"
   ]
  },
  {
   "cell_type": "code",
   "execution_count": 54,
   "id": "fbbf59b2",
   "metadata": {},
   "outputs": [],
   "source": [
    "cv = KFold(n_splits=5, random_state=1, shuffle=True)"
   ]
  },
  {
   "cell_type": "code",
   "execution_count": 58,
   "id": "e72df9f1",
   "metadata": {},
   "outputs": [
    {
     "name": "stdout",
     "output_type": "stream",
     "text": [
      "[-58433.58769918 -52042.32903469 -57874.81892764 -53884.53739124\n",
      " -57831.76667253]\n"
     ]
    }
   ],
   "source": [
    "regressor = SVR(kernel='rbf')\n",
    "regressor.fit(X_train,y_train)\n",
    "y_pred = regressor.predict(X_test)\n",
    "scores = cross_val_score(regressor, X, y, scoring='neg_mean_absolute_error',\n",
    "                         cv=cv, n_jobs=-1)\n",
    "print(scores)\n",
    "#k-fold_score = averages(scores)\n",
    "#print(k-fold_score)\n",
    "#mae = mean_absolute_error(y_test, y_pred)\n",
    "#mse = mean_squared_error(y_test, y_pred)\n",
    "#rmse = mean_squared_error(y_test, y_pred, squared=False)\n",
    "#print(f'mae: {mae}')\n",
    "#print(f'mse: {mse}')\n",
    "#print(f'rmse: {rmse}')\n",
    "#print(knr.score(X_train, y_train))\n",
    "#print(knr.score(X_test, y_test))"
   ]
  },
  {
   "cell_type": "code",
   "execution_count": 59,
   "id": "9e12cf6a",
   "metadata": {},
   "outputs": [
    {
     "name": "stdout",
     "output_type": "stream",
     "text": [
      "-56013.407945056344\n"
     ]
    }
   ],
   "source": [
    "print(np.average(scores))"
   ]
  },
  {
   "cell_type": "markdown",
   "id": "3c94cf28",
   "metadata": {},
   "source": [
    "Above you see the average score (negative of mean absolute error) over the k-folds"
   ]
  },
  {
   "cell_type": "code",
   "execution_count": 60,
   "id": "d7c2098a",
   "metadata": {},
   "outputs": [
    {
     "name": "stdout",
     "output_type": "stream",
     "text": [
      "[-7.98434945e+09 -5.42998708e+09 -7.11151291e+09 -6.14488220e+09\n",
      " -7.13713535e+09]\n",
      "-6761573399.537901\n"
     ]
    }
   ],
   "source": [
    "scores = cross_val_score(regressor, X, y, scoring='neg_mean_squared_error',\n",
    "                         cv=cv, n_jobs=-1)\n",
    "print(scores)\n",
    "print(np.average(scores))"
   ]
  },
  {
   "cell_type": "code",
   "execution_count": 61,
   "id": "05f9a496",
   "metadata": {},
   "outputs": [
    {
     "name": "stdout",
     "output_type": "stream",
     "text": [
      "[-89355.18703211 -73688.44606562 -84329.78660209 -78389.29903106\n",
      " -84481.56812965]\n",
      "-82048.8573721068\n"
     ]
    }
   ],
   "source": [
    "scores = cross_val_score(regressor, X, y, scoring='neg_root_mean_squared_error',\n",
    "                         cv=cv, n_jobs=-1)\n",
    "print(scores)\n",
    "print(np.average(scores))"
   ]
  },
  {
   "cell_type": "code",
   "execution_count": null,
   "id": "cc11cf89",
   "metadata": {},
   "outputs": [],
   "source": []
  }
 ],
 "metadata": {
  "kernelspec": {
   "display_name": "Python 3 (ipykernel)",
   "language": "python",
   "name": "python3"
  },
  "language_info": {
   "codemirror_mode": {
    "name": "ipython",
    "version": 3
   },
   "file_extension": ".py",
   "mimetype": "text/x-python",
   "name": "python",
   "nbconvert_exporter": "python",
   "pygments_lexer": "ipython3",
   "version": "3.11.0"
  }
 },
 "nbformat": 4,
 "nbformat_minor": 5
}
