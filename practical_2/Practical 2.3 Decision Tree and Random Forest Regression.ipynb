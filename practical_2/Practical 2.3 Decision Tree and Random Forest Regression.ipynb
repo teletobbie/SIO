{
 "cells": [
  {
   "cell_type": "markdown",
   "id": "3aa2b292",
   "metadata": {},
   "source": [
    "# The dataset"
   ]
  },
  {
   "cell_type": "markdown",
   "id": "3a51d325",
   "metadata": {},
   "source": [
    "We will explore regression models using a standard bencharking dataset, the AMES Housing data. This comprises data about individual housing property in AMES, Iowa, USA, from 2006-2010. More information on the data set can be found here: \n",
    "Dataset description -  http://jse.amstat.org/v19n3/decock.pdf\n",
    "Dataset documentation http://jse.amstat.org/v19n3/decock/DataDocumentation.txt\n",
    "The actual dataset in text, tab-separated format: http://jse.amstat.org/v19n3/decock/AmesHousing.txt"
   ]
  },
  {
   "cell_type": "code",
   "execution_count": 1,
   "id": "cfb75954",
   "metadata": {},
   "outputs": [],
   "source": [
    "import pandas as pd"
   ]
  },
  {
   "cell_type": "markdown",
   "id": "16355dec",
   "metadata": {},
   "source": [
    "We will not use the complete set of attributes in the dataset but we will downselect specific ones: \n",
    "\n",
    "Overall Qual (Ordinal): Rates the overall material and finish of the house\n",
    "       10\tVery Excellent\n",
    "       9\tExcellent\n",
    "       8\tVery Good\n",
    "       7\tGood\n",
    "       6\tAbove Average\n",
    "       5\tAverage\n",
    "       4\tBelow Average\n",
    "       3\tFair\n",
    "       2\tPoor\n",
    "       1\tVery Poor\n",
    "       \n",
    "Overall Cond (Ordinal): Rates the overall condition of the house\n",
    "       10\tVery Excellent\n",
    "       9\tExcellent\n",
    "       8\tVery Good\n",
    "       7\tGood\n",
    "       6\tAbove Average\t\n",
    "       5\tAverage\n",
    "       4\tBelow Average\t\n",
    "       3\tFair\n",
    "       2\tPoor\n",
    "       1\tVery Poor \n",
    "       \n",
    "Gr Liv Area (Continuous): Above grade (ground) living area square feet\n",
    "\n",
    "entral Air (Nominal): Central air conditioning\n",
    "       N\tNo\n",
    "       Y\tYes\n",
    "\n",
    "total Bsmt SF (Continuous): Total square feet of basement area\n",
    "\n",
    "SalePrice (Continuous): Sale price in $$"
   ]
  },
  {
   "cell_type": "code",
   "execution_count": 2,
   "id": "db69be54",
   "metadata": {},
   "outputs": [],
   "source": [
    "columns = ['Overall Qual', 'Overall Cond', 'Gr Liv Area', 'Central Air', 'Total Bsmt SF', 'SalePrice']"
   ]
  },
  {
   "cell_type": "code",
   "execution_count": 3,
   "id": "1e9d8caf",
   "metadata": {},
   "outputs": [],
   "source": [
    "df = pd.read_csv('http://jse.amstat.org/v19n3/decock/AmesHousing.txt',sep='\\t',usecols=columns)"
   ]
  },
  {
   "cell_type": "markdown",
   "id": "05e797d3",
   "metadata": {},
   "source": [
    "We can also read the data set locally"
   ]
  },
  {
   "cell_type": "code",
   "execution_count": 4,
   "id": "ba3c29fe",
   "metadata": {},
   "outputs": [],
   "source": [
    "df = pd.read_csv('AmesHousing.txt',sep='\\t',usecols=columns)"
   ]
  },
  {
   "cell_type": "markdown",
   "id": "271abd21",
   "metadata": {},
   "source": [
    "Let's inspect the first 5 lines of the dataframe populated with the data"
   ]
  },
  {
   "cell_type": "code",
   "execution_count": 4,
   "id": "15d7a1da",
   "metadata": {},
   "outputs": [
    {
     "data": {
      "text/html": [
       "<div>\n",
       "<style scoped>\n",
       "    .dataframe tbody tr th:only-of-type {\n",
       "        vertical-align: middle;\n",
       "    }\n",
       "\n",
       "    .dataframe tbody tr th {\n",
       "        vertical-align: top;\n",
       "    }\n",
       "\n",
       "    .dataframe thead th {\n",
       "        text-align: right;\n",
       "    }\n",
       "</style>\n",
       "<table border=\"1\" class=\"dataframe\">\n",
       "  <thead>\n",
       "    <tr style=\"text-align: right;\">\n",
       "      <th></th>\n",
       "      <th>Overall Qual</th>\n",
       "      <th>Overall Cond</th>\n",
       "      <th>Total Bsmt SF</th>\n",
       "      <th>Central Air</th>\n",
       "      <th>Gr Liv Area</th>\n",
       "      <th>SalePrice</th>\n",
       "    </tr>\n",
       "  </thead>\n",
       "  <tbody>\n",
       "    <tr>\n",
       "      <th>0</th>\n",
       "      <td>6</td>\n",
       "      <td>5</td>\n",
       "      <td>1080.0</td>\n",
       "      <td>Y</td>\n",
       "      <td>1656</td>\n",
       "      <td>215000</td>\n",
       "    </tr>\n",
       "    <tr>\n",
       "      <th>1</th>\n",
       "      <td>5</td>\n",
       "      <td>6</td>\n",
       "      <td>882.0</td>\n",
       "      <td>Y</td>\n",
       "      <td>896</td>\n",
       "      <td>105000</td>\n",
       "    </tr>\n",
       "    <tr>\n",
       "      <th>2</th>\n",
       "      <td>6</td>\n",
       "      <td>6</td>\n",
       "      <td>1329.0</td>\n",
       "      <td>Y</td>\n",
       "      <td>1329</td>\n",
       "      <td>172000</td>\n",
       "    </tr>\n",
       "    <tr>\n",
       "      <th>3</th>\n",
       "      <td>7</td>\n",
       "      <td>5</td>\n",
       "      <td>2110.0</td>\n",
       "      <td>Y</td>\n",
       "      <td>2110</td>\n",
       "      <td>244000</td>\n",
       "    </tr>\n",
       "    <tr>\n",
       "      <th>4</th>\n",
       "      <td>5</td>\n",
       "      <td>5</td>\n",
       "      <td>928.0</td>\n",
       "      <td>Y</td>\n",
       "      <td>1629</td>\n",
       "      <td>189900</td>\n",
       "    </tr>\n",
       "  </tbody>\n",
       "</table>\n",
       "</div>"
      ],
      "text/plain": [
       "   Overall Qual  Overall Cond  Total Bsmt SF Central Air  Gr Liv Area  \\\n",
       "0             6             5         1080.0           Y         1656   \n",
       "1             5             6          882.0           Y          896   \n",
       "2             6             6         1329.0           Y         1329   \n",
       "3             7             5         2110.0           Y         2110   \n",
       "4             5             5          928.0           Y         1629   \n",
       "\n",
       "   SalePrice  \n",
       "0     215000  \n",
       "1     105000  \n",
       "2     172000  \n",
       "3     244000  \n",
       "4     189900  "
      ]
     },
     "execution_count": 4,
     "metadata": {},
     "output_type": "execute_result"
    }
   ],
   "source": [
    "df.head()"
   ]
  },
  {
   "cell_type": "markdown",
   "id": "3d8920de",
   "metadata": {},
   "source": [
    "All attributes above are numerical, apart from Central Air"
   ]
  },
  {
   "cell_type": "markdown",
   "id": "fc025a18",
   "metadata": {},
   "source": [
    "Let's inspect also the shape / dimensions of the dataset"
   ]
  },
  {
   "cell_type": "code",
   "execution_count": 5,
   "id": "56707bed",
   "metadata": {},
   "outputs": [
    {
     "data": {
      "text/plain": [
       "(2930, 6)"
      ]
     },
     "execution_count": 5,
     "metadata": {},
     "output_type": "execute_result"
    }
   ],
   "source": [
    "df.shape"
   ]
  },
  {
   "cell_type": "markdown",
   "id": "b41ef68a",
   "metadata": {},
   "source": [
    "We can convert the Central Air varariable to a numerical one by mapping 'N' values to 0 and 'Y' values to 1 and inspect the data again."
   ]
  },
  {
   "cell_type": "code",
   "execution_count": 6,
   "id": "fcb1f6f5",
   "metadata": {},
   "outputs": [],
   "source": [
    "df['Central Air'] = df['Central Air'].map({'N': 0, 'Y': 1})"
   ]
  },
  {
   "cell_type": "code",
   "execution_count": 7,
   "id": "dd090b02",
   "metadata": {},
   "outputs": [
    {
     "data": {
      "text/html": [
       "<div>\n",
       "<style scoped>\n",
       "    .dataframe tbody tr th:only-of-type {\n",
       "        vertical-align: middle;\n",
       "    }\n",
       "\n",
       "    .dataframe tbody tr th {\n",
       "        vertical-align: top;\n",
       "    }\n",
       "\n",
       "    .dataframe thead th {\n",
       "        text-align: right;\n",
       "    }\n",
       "</style>\n",
       "<table border=\"1\" class=\"dataframe\">\n",
       "  <thead>\n",
       "    <tr style=\"text-align: right;\">\n",
       "      <th></th>\n",
       "      <th>Overall Qual</th>\n",
       "      <th>Overall Cond</th>\n",
       "      <th>Total Bsmt SF</th>\n",
       "      <th>Central Air</th>\n",
       "      <th>Gr Liv Area</th>\n",
       "      <th>SalePrice</th>\n",
       "    </tr>\n",
       "  </thead>\n",
       "  <tbody>\n",
       "    <tr>\n",
       "      <th>0</th>\n",
       "      <td>6</td>\n",
       "      <td>5</td>\n",
       "      <td>1080.0</td>\n",
       "      <td>1</td>\n",
       "      <td>1656</td>\n",
       "      <td>215000</td>\n",
       "    </tr>\n",
       "    <tr>\n",
       "      <th>1</th>\n",
       "      <td>5</td>\n",
       "      <td>6</td>\n",
       "      <td>882.0</td>\n",
       "      <td>1</td>\n",
       "      <td>896</td>\n",
       "      <td>105000</td>\n",
       "    </tr>\n",
       "    <tr>\n",
       "      <th>2</th>\n",
       "      <td>6</td>\n",
       "      <td>6</td>\n",
       "      <td>1329.0</td>\n",
       "      <td>1</td>\n",
       "      <td>1329</td>\n",
       "      <td>172000</td>\n",
       "    </tr>\n",
       "    <tr>\n",
       "      <th>3</th>\n",
       "      <td>7</td>\n",
       "      <td>5</td>\n",
       "      <td>2110.0</td>\n",
       "      <td>1</td>\n",
       "      <td>2110</td>\n",
       "      <td>244000</td>\n",
       "    </tr>\n",
       "    <tr>\n",
       "      <th>4</th>\n",
       "      <td>5</td>\n",
       "      <td>5</td>\n",
       "      <td>928.0</td>\n",
       "      <td>1</td>\n",
       "      <td>1629</td>\n",
       "      <td>189900</td>\n",
       "    </tr>\n",
       "  </tbody>\n",
       "</table>\n",
       "</div>"
      ],
      "text/plain": [
       "   Overall Qual  Overall Cond  Total Bsmt SF  Central Air  Gr Liv Area  \\\n",
       "0             6             5         1080.0            1         1656   \n",
       "1             5             6          882.0            1          896   \n",
       "2             6             6         1329.0            1         1329   \n",
       "3             7             5         2110.0            1         2110   \n",
       "4             5             5          928.0            1         1629   \n",
       "\n",
       "   SalePrice  \n",
       "0     215000  \n",
       "1     105000  \n",
       "2     172000  \n",
       "3     244000  \n",
       "4     189900  "
      ]
     },
     "execution_count": 7,
     "metadata": {},
     "output_type": "execute_result"
    }
   ],
   "source": [
    "df.head()"
   ]
  },
  {
   "cell_type": "markdown",
   "id": "0b186634",
   "metadata": {},
   "source": [
    "Before progressing any further, let's check for missing values using the isnull() method of the dataframe"
   ]
  },
  {
   "cell_type": "code",
   "execution_count": 8,
   "id": "0eee7624",
   "metadata": {},
   "outputs": [
    {
     "data": {
      "text/plain": [
       "Overall Qual     0\n",
       "Overall Cond     0\n",
       "Total Bsmt SF    1\n",
       "Central Air      0\n",
       "Gr Liv Area      0\n",
       "SalePrice        0\n",
       "dtype: int64"
      ]
     },
     "execution_count": 8,
     "metadata": {},
     "output_type": "execute_result"
    }
   ],
   "source": [
    "df.isnull().sum()"
   ]
  },
  {
   "cell_type": "markdown",
   "id": "a02c2c76",
   "metadata": {},
   "source": [
    "We have counted '1' missing value in the Total Bsmt SF attribute. As this is in just one record, the simplest approach without sacrificing much information from the dataset is to remove this record. We will use a method which drops \"non a number\" records. "
   ]
  },
  {
   "cell_type": "code",
   "execution_count": 9,
   "id": "eb84e8b4",
   "metadata": {},
   "outputs": [],
   "source": [
    "df = df.dropna(axis=0)"
   ]
  },
  {
   "cell_type": "code",
   "execution_count": 11,
   "id": "af23aa39",
   "metadata": {},
   "outputs": [
    {
     "data": {
      "text/plain": [
       "Overall Qual     0\n",
       "Overall Cond     0\n",
       "Total Bsmt SF    0\n",
       "Central Air      0\n",
       "Gr Liv Area      0\n",
       "SalePrice        0\n",
       "dtype: int64"
      ]
     },
     "execution_count": 11,
     "metadata": {},
     "output_type": "execute_result"
    }
   ],
   "source": [
    "df.isnull().sum()"
   ]
  },
  {
   "cell_type": "markdown",
   "id": "efbbac4d",
   "metadata": {},
   "source": [
    "Good - no missing values any more"
   ]
  },
  {
   "cell_type": "markdown",
   "id": "eca79e3a",
   "metadata": {},
   "source": [
    "# Applying Tree Regression"
   ]
  },
  {
   "cell_type": "code",
   "execution_count": 11,
   "id": "951228ef",
   "metadata": {},
   "outputs": [],
   "source": [
    "from sklearn.tree import DecisionTreeRegressor\n",
    "import matplotlib.pyplot as plt\n",
    "import seaborn as sns"
   ]
  },
  {
   "cell_type": "code",
   "execution_count": 12,
   "id": "50e3733d",
   "metadata": {},
   "outputs": [],
   "source": [
    "def lin_regplot(X, y, model):\n",
    "    plt.scatter(X, y, c='steelblue', edgecolor='white', s=70)\n",
    "    plt.plot(X, model.predict(X), color='black', lw=2)"
   ]
  },
  {
   "cell_type": "markdown",
   "id": "64a16c3f",
   "metadata": {},
   "source": [
    "you may use pip install \n",
    "in CMD (command prompt) to install the above libraries if they are not already installed\n",
    "pip install seaborn"
   ]
  },
  {
   "cell_type": "code",
   "execution_count": 13,
   "id": "45cb0718",
   "metadata": {},
   "outputs": [],
   "source": [
    "X = df[['Gr Liv Area']].values\n",
    "y = df['SalePrice'].values"
   ]
  },
  {
   "cell_type": "code",
   "execution_count": 20,
   "id": "9932962c",
   "metadata": {},
   "outputs": [],
   "source": [
    "tree = DecisionTreeRegressor(max_depth=5)"
   ]
  },
  {
   "cell_type": "code",
   "execution_count": 21,
   "id": "9aa7102b",
   "metadata": {},
   "outputs": [
    {
     "data": {
      "text/html": [
       "<style>#sk-container-id-3 {color: black;background-color: white;}#sk-container-id-3 pre{padding: 0;}#sk-container-id-3 div.sk-toggleable {background-color: white;}#sk-container-id-3 label.sk-toggleable__label {cursor: pointer;display: block;width: 100%;margin-bottom: 0;padding: 0.3em;box-sizing: border-box;text-align: center;}#sk-container-id-3 label.sk-toggleable__label-arrow:before {content: \"▸\";float: left;margin-right: 0.25em;color: #696969;}#sk-container-id-3 label.sk-toggleable__label-arrow:hover:before {color: black;}#sk-container-id-3 div.sk-estimator:hover label.sk-toggleable__label-arrow:before {color: black;}#sk-container-id-3 div.sk-toggleable__content {max-height: 0;max-width: 0;overflow: hidden;text-align: left;background-color: #f0f8ff;}#sk-container-id-3 div.sk-toggleable__content pre {margin: 0.2em;color: black;border-radius: 0.25em;background-color: #f0f8ff;}#sk-container-id-3 input.sk-toggleable__control:checked~div.sk-toggleable__content {max-height: 200px;max-width: 100%;overflow: auto;}#sk-container-id-3 input.sk-toggleable__control:checked~label.sk-toggleable__label-arrow:before {content: \"▾\";}#sk-container-id-3 div.sk-estimator input.sk-toggleable__control:checked~label.sk-toggleable__label {background-color: #d4ebff;}#sk-container-id-3 div.sk-label input.sk-toggleable__control:checked~label.sk-toggleable__label {background-color: #d4ebff;}#sk-container-id-3 input.sk-hidden--visually {border: 0;clip: rect(1px 1px 1px 1px);clip: rect(1px, 1px, 1px, 1px);height: 1px;margin: -1px;overflow: hidden;padding: 0;position: absolute;width: 1px;}#sk-container-id-3 div.sk-estimator {font-family: monospace;background-color: #f0f8ff;border: 1px dotted black;border-radius: 0.25em;box-sizing: border-box;margin-bottom: 0.5em;}#sk-container-id-3 div.sk-estimator:hover {background-color: #d4ebff;}#sk-container-id-3 div.sk-parallel-item::after {content: \"\";width: 100%;border-bottom: 1px solid gray;flex-grow: 1;}#sk-container-id-3 div.sk-label:hover label.sk-toggleable__label {background-color: #d4ebff;}#sk-container-id-3 div.sk-serial::before {content: \"\";position: absolute;border-left: 1px solid gray;box-sizing: border-box;top: 0;bottom: 0;left: 50%;z-index: 0;}#sk-container-id-3 div.sk-serial {display: flex;flex-direction: column;align-items: center;background-color: white;padding-right: 0.2em;padding-left: 0.2em;position: relative;}#sk-container-id-3 div.sk-item {position: relative;z-index: 1;}#sk-container-id-3 div.sk-parallel {display: flex;align-items: stretch;justify-content: center;background-color: white;position: relative;}#sk-container-id-3 div.sk-item::before, #sk-container-id-3 div.sk-parallel-item::before {content: \"\";position: absolute;border-left: 1px solid gray;box-sizing: border-box;top: 0;bottom: 0;left: 50%;z-index: -1;}#sk-container-id-3 div.sk-parallel-item {display: flex;flex-direction: column;z-index: 1;position: relative;background-color: white;}#sk-container-id-3 div.sk-parallel-item:first-child::after {align-self: flex-end;width: 50%;}#sk-container-id-3 div.sk-parallel-item:last-child::after {align-self: flex-start;width: 50%;}#sk-container-id-3 div.sk-parallel-item:only-child::after {width: 0;}#sk-container-id-3 div.sk-dashed-wrapped {border: 1px dashed gray;margin: 0 0.4em 0.5em 0.4em;box-sizing: border-box;padding-bottom: 0.4em;background-color: white;}#sk-container-id-3 div.sk-label label {font-family: monospace;font-weight: bold;display: inline-block;line-height: 1.2em;}#sk-container-id-3 div.sk-label-container {text-align: center;}#sk-container-id-3 div.sk-container {/* jupyter's `normalize.less` sets `[hidden] { display: none; }` but bootstrap.min.css set `[hidden] { display: none !important; }` so we also need the `!important` here to be able to override the default hidden behavior on the sphinx rendered scikit-learn.org. See: https://github.com/scikit-learn/scikit-learn/issues/21755 */display: inline-block !important;position: relative;}#sk-container-id-3 div.sk-text-repr-fallback {display: none;}</style><div id=\"sk-container-id-3\" class=\"sk-top-container\"><div class=\"sk-text-repr-fallback\"><pre>DecisionTreeRegressor(max_depth=5)</pre><b>In a Jupyter environment, please rerun this cell to show the HTML representation or trust the notebook. <br />On GitHub, the HTML representation is unable to render, please try loading this page with nbviewer.org.</b></div><div class=\"sk-container\" hidden><div class=\"sk-item\"><div class=\"sk-estimator sk-toggleable\"><input class=\"sk-toggleable__control sk-hidden--visually\" id=\"sk-estimator-id-3\" type=\"checkbox\" checked><label for=\"sk-estimator-id-3\" class=\"sk-toggleable__label sk-toggleable__label-arrow\">DecisionTreeRegressor</label><div class=\"sk-toggleable__content\"><pre>DecisionTreeRegressor(max_depth=5)</pre></div></div></div></div></div>"
      ],
      "text/plain": [
       "DecisionTreeRegressor(max_depth=5)"
      ]
     },
     "execution_count": 21,
     "metadata": {},
     "output_type": "execute_result"
    }
   ],
   "source": [
    "tree.fit(X, y)"
   ]
  },
  {
   "cell_type": "code",
   "execution_count": 22,
   "id": "00238822",
   "metadata": {},
   "outputs": [
    {
     "data": {
      "image/png": "[encoded data removed]",
      "text/plain": [
       "<Figure size 432x288 with 1 Axes>"
      ]
     },
     "metadata": {
      "needs_background": "light"
     },
     "output_type": "display_data"
    }
   ],
   "source": [
    "sort_idx = X.flatten().argsort()\n",
    "lin_regplot(X[sort_idx], y[sort_idx], tree)\n",
    "plt.xlabel('Living area above ground in square feet')\n",
    "plt.ylabel('Sale price in U.S. dollars')\n",
    "plt.show()"
   ]
  },
  {
   "cell_type": "markdown",
   "id": "eca78c7c",
   "metadata": {},
   "source": [
    "Go ahead and experiment further with different tree depths. Also experiment with other attributes, for example Overall Qual. "
   ]
  },
  {
   "cell_type": "markdown",
   "id": "25877583",
   "metadata": {},
   "source": [
    "# Applying Random Forest Regression"
   ]
  },
  {
   "cell_type": "code",
   "execution_count": 23,
   "id": "8115bab8",
   "metadata": {},
   "outputs": [],
   "source": [
    "from sklearn.model_selection import train_test_split\n",
    "import numpy as np"
   ]
  },
  {
   "cell_type": "code",
   "execution_count": 24,
   "id": "e99b1523",
   "metadata": {},
   "outputs": [],
   "source": [
    "target = 'SalePrice'\n",
    "features = df.columns[df.columns != target]\n",
    "X = df[features].values\n",
    "y = df[target].values\n",
    "X_train, X_test, y_train, y_test = train_test_split(\n",
    "X, y, test_size=0.3, random_state=123)"
   ]
  },
  {
   "cell_type": "code",
   "execution_count": 25,
   "id": "73eeae42",
   "metadata": {},
   "outputs": [],
   "source": [
    "from sklearn.ensemble import RandomForestRegressor"
   ]
  },
  {
   "cell_type": "code",
   "execution_count": 26,
   "id": "cdb959c9",
   "metadata": {},
   "outputs": [],
   "source": [
    "from sklearn.metrics import mean_squared_error, mean_absolute_error, r2_score"
   ]
  },
  {
   "cell_type": "code",
   "execution_count": 27,
   "id": "e04c98e6",
   "metadata": {},
   "outputs": [],
   "source": [
    "forest = RandomForestRegressor(\n",
    "n_estimators=1000, \n",
    "criterion='squared_error', \n",
    "random_state=1, \n",
    "n_jobs=-1)"
   ]
  },
  {
   "cell_type": "code",
   "execution_count": 28,
   "id": "76335297",
   "metadata": {},
   "outputs": [
    {
     "name": "stdout",
     "output_type": "stream",
     "text": [
      "MAE train: 8305.18\n",
      "MAE test: 20821.77\n",
      "R^2 train: 0.98\n",
      "R^2 test: 0.85\n"
     ]
    }
   ],
   "source": [
    "forest.fit(X_train, y_train)\n",
    "y_train_pred = forest.predict(X_train)\n",
    "y_test_pred = forest.predict(X_test)\n",
    "mae_train = mean_absolute_error(y_train, y_train_pred)\n",
    "mae_test = mean_absolute_error(y_test, y_test_pred)\n",
    "print(f'MAE train: {mae_train:.2f}')\n",
    "print(f'MAE test: {mae_test:.2f}')\n",
    "r2_train = r2_score(y_train, y_train_pred)\n",
    "r2_test =r2_score(y_test, y_test_pred)\n",
    "print(f'R^2 train: {r2_train:.2f}')\n",
    "print(f'R^2 test: {r2_test:.2f}')"
   ]
  },
  {
   "cell_type": "markdown",
   "id": "58f3d105",
   "metadata": {},
   "source": [
    "Note that perfomance over the test data is significantly inferior. Therefore this is a case of overfit. We can have a look at the residual errors next. "
   ]
  },
  {
   "cell_type": "code",
   "execution_count": 36,
   "id": "2cfcf28f",
   "metadata": {},
   "outputs": [
    {
     "data": {
      "image/png": "[encoded data removed]",
      "text/plain": [
       "<Figure size 864x720 with 2 Axes>"
      ]
     },
     "metadata": {
      "needs_background": "light"
     },
     "output_type": "display_data"
    }
   ],
   "source": [
    "x_max = np.max([np.max(y_train_pred), np.max(y_test_pred)])\n",
    "x_min = np.min([np.min(y_train_pred), np.min(y_test_pred)])\n",
    "fig, (ax1, ax2) = plt.subplots(1, 2, figsize=(12, 10), sharey=True)\n",
    "ax1.scatter(y_test_pred, y_test_pred - y_test,\n",
    "                 c='limegreen', marker='s', edgecolor='white',\n",
    "                 label='Test data')\n",
    "ax2.scatter(y_train_pred, y_train_pred - y_train,\n",
    "                 c='steelblue', marker='o', edgecolor='white',\n",
    "                 label='Training data')\n",
    "ax1.set_ylabel('Residuals')\n",
    "for ax in (ax1, ax2):\n",
    "         ax.set_xlabel('Predicted values')\n",
    "         ax.legend(loc='upper left')\n",
    "         ax.hlines(y=0, xmin=x_min-100, xmax=x_max+100,\n",
    "                   color='black', lw=2)\n",
    "plt.tight_layout()\n",
    "plt.show()"
   ]
  }
 ],
 "metadata": {
  "kernelspec": {
   "display_name": "Python 3.10.4 ('sio')",
   "language": "python",
   "name": "python3"
  },
  "language_info": {
   "codemirror_mode": {
    "name": "ipython",
    "version": 3
   },
   "file_extension": ".py",
   "mimetype": "text/x-python",
   "name": "python",
   "nbconvert_exporter": "python",
   "pygments_lexer": "ipython3",
   "version": "3.10.4"
  },
  "vscode": {
   "interpreter": {
    "hash": "d1a153170a3f217d001d6e9df4ac4e4ab4fdaf0e0bf55a7345ffbd89e66bc90f"
   }
  }
 },
 "nbformat": 4,
 "nbformat_minor": 5
}
