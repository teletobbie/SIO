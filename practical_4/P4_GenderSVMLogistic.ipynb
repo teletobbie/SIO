{
 "cells": [
  {
   "cell_type": "markdown",
   "metadata": {
    "id": "k47uXogQN7DK"
   },
   "source": [
    "# Debiasing classification algorithms for Occupational Stress Detection\n",
    "\n",
    "\n",
    "---\n"
   ]
  },
  {
   "cell_type": "markdown",
   "metadata": {
    "id": "O0Y4pgaSqwAm"
   },
   "source": [
    "## BASE CODE"
   ]
  },
  {
   "cell_type": "markdown",
   "metadata": {
    "id": "Vm-FuP7Wqx9F"
   },
   "source": [
    "### Libraries"
   ]
  },
  {
   "cell_type": "code",
   "execution_count": null,
   "metadata": {
    "executionInfo": {
     "elapsed": 1107,
     "status": "ok",
     "timestamp": 1656238694328,
     "user": {
      "displayName": "F.F. Hohne Tarragona",
      "userId": "13565783361540206982"
     },
     "user_tz": -120
    },
    "id": "vPdszu9IF3a4"
   },
   "outputs": [],
   "source": [
    "# importing general libraries\n",
    "import pandas as pd\n",
    "import numpy as np\n",
    "import matplotlib.pyplot as plt\n",
    "import seaborn as sns\n",
    "%matplotlib inline\n",
    "\n",
    "from IPython.display import Markdown, display\n",
    "\n",
    "# libraries for data processing\n",
    "from sklearn import preprocessing\n",
    "from sklearn.model_selection import train_test_split"
   ]
  },
  {
   "cell_type": "code",
   "execution_count": null,
   "metadata": {
    "colab": {
     "base_uri": "https://localhost:8080/"
    },
    "executionInfo": {
     "elapsed": 20951,
     "status": "ok",
     "timestamp": 1656238715275,
     "user": {
      "displayName": "F.F. Hohne Tarragona",
      "userId": "13565783361540206982"
     },
     "user_tz": -120
    },
    "id": "1Zfbz1UpIvwF",
    "outputId": "faa043ef-bfba-4ba3-d5df-45726356fee5"
   },
   "outputs": [],
   "source": [
    "! pip install fairlearn\n",
    "! pip install aif360"
   ]
  },
  {
   "cell_type": "markdown",
   "metadata": {
    "id": "G0OplJsVq1Uf"
   },
   "source": [
    "### Data load and wrangling"
   ]
  },
  {
   "cell_type": "code",
   "execution_count": null,
   "metadata": {
    "executionInfo": {
     "elapsed": 1101,
     "status": "ok",
     "timestamp": 1656240878874,
     "user": {
      "displayName": "F.F. Hohne Tarragona",
      "userId": "13565783361540206982"
     },
     "user_tz": -120
    },
    "id": "VSOXk2MLWi6Y"
   },
   "outputs": [],
   "source": [
    "# Define the path you use\n",
    "pathfile = 'c:\\\\Python\\\\Code\\\\Bias\\Datasets\\\\WESAD\\\\may2014.csv'\n",
    "print(pathfile)\n",
    "\n",
    "df = pd.read_csv(pathfile, sep=',', index_col=0)"
   ]
  },
  {
   "cell_type": "code",
   "execution_count": null,
   "metadata": {
    "executionInfo": {
     "elapsed": 17,
     "status": "ok",
     "timestamp": 1656240878875,
     "user": {
      "displayName": "F.F. Hohne Tarragona",
      "userId": "13565783361540206982"
     },
     "user_tz": -120
    },
    "id": "2I40K1hnRcfP"
   },
   "outputs": [],
   "source": [
    "# reorder df columns & remove features which will not be used (lifestyle features, 3D data)\n",
    "# remove min, max values, as mean & st. dev are already calculated\n",
    "# remove according to corr analysis --> total of 18 attributes left \n",
    "\n",
    "cols = ['subject', 'label', \n",
    "        'age','gender_ female',\n",
    "        'height', 'weight', \n",
    "        'BVP_std', \n",
    "        'EDA_mean', 'EDA_std', \n",
    "        'EDA_phasic_mean','EDA_phasic_std', \n",
    "        'EDA_smna_mean','EDA_smna_std', \n",
    "        'EDA_tonic_mean','EDA_tonic_std',  \n",
    "        'Resp_std', \n",
    "        'TEMP_mean', 'TEMP_slope']\n",
    "\n",
    "df = df[cols]\n"
   ]
  },
  {
   "cell_type": "code",
   "execution_count": null,
   "metadata": {
    "executionInfo": {
     "elapsed": 15,
     "status": "ok",
     "timestamp": 1656240878875,
     "user": {
      "displayName": "F.F. Hohne Tarragona",
      "userId": "13565783361540206982"
     },
     "user_tz": -120
    },
    "id": "u4oiehdkR_66"
   },
   "outputs": [],
   "source": [
    "# rename gender (male:0, female:1)\n",
    "df = df.rename(columns = {'gender_ female':'gender'})"
   ]
  },
  {
   "cell_type": "code",
   "execution_count": null,
   "metadata": {
    "executionInfo": {
     "elapsed": 14,
     "status": "ok",
     "timestamp": 1656240878876,
     "user": {
      "displayName": "F.F. Hohne Tarragona",
      "userId": "13565783361540206982"
     },
     "user_tz": -120
    },
    "id": "TrQh8Q_MaCau"
   },
   "outputs": [],
   "source": [
    "# remove amusement state \n",
    "# 1: baseline, 2: stressed\n",
    "df = df.loc[~(df['label'] == 0)]"
   ]
  },
  {
   "cell_type": "code",
   "execution_count": null,
   "metadata": {
    "executionInfo": {
     "elapsed": 12,
     "status": "ok",
     "timestamp": 1656240878876,
     "user": {
      "displayName": "F.F. Hohne Tarragona",
      "userId": "13565783361540206982"
     },
     "user_tz": -120
    },
    "id": "f93wZtUBUVI8"
   },
   "outputs": [],
   "source": [
    "# chang 1,2 classification to 0,1 classification to avoid problems down the line\n",
    "# 0: baseline, 1: stressed\n",
    "df['label'] = df['label'].replace({1: 0})\n",
    "df['label'] = df['label'].replace({2: 1})"
   ]
  },
  {
   "cell_type": "code",
   "execution_count": null,
   "metadata": {
    "executionInfo": {
     "elapsed": 11,
     "status": "ok",
     "timestamp": 1656240878877,
     "user": {
      "displayName": "F.F. Hohne Tarragona",
      "userId": "13565783361540206982"
     },
     "user_tz": -120
    },
    "id": "fRfQRkZIn_ZG"
   },
   "outputs": [],
   "source": [
    "# bin age into groups to make binary (0: under 27)\n",
    "df['age'] = np.where(df['age']>=28, '1', '0')"
   ]
  },
  {
   "cell_type": "markdown",
   "metadata": {
    "id": "Qm0kRPE6IQ3U"
   },
   "source": [
    "## Stress Model\n",
    "-----\n"
   ]
  },
  {
   "cell_type": "markdown",
   "metadata": {
    "id": "DhQm1KAVrcwq"
   },
   "source": [
    "- svm (gamma 0.0526) \n",
    "- svm (gamma 0.07)\n",
    "- log regression (11 penalization, c=1)\n",
    "- log regression (11 penalization, c=2)"
   ]
  },
  {
   "cell_type": "markdown",
   "metadata": {
    "id": "lOtqxcHmajJ4"
   },
   "source": [
    "#### libraries and helper functions"
   ]
  },
  {
   "cell_type": "code",
   "execution_count": null,
   "metadata": {
    "executionInfo": {
     "elapsed": 337,
     "status": "ok",
     "timestamp": 1656240879204,
     "user": {
      "displayName": "F.F. Hohne Tarragona",
      "userId": "13565783361540206982"
     },
     "user_tz": -120
    },
    "id": "IOt0wv0I2fxk"
   },
   "outputs": [],
   "source": [
    "# libraries for models\n",
    "from sklearn.linear_model import LogisticRegression\n",
    "from sklearn.svm import SVC\n",
    "from sklearn.neighbors import KNeighborsClassifier\n",
    "from sklearn.tree import DecisionTreeClassifier,plot_tree\n",
    "\n",
    "# libraries for data processing\n",
    "from sklearn import preprocessing\n",
    "from sklearn.model_selection import train_test_split\n",
    "\n",
    "# libraries for metrics of models\n",
    "from sklearn.metrics import (\n",
    "    accuracy_score, confusion_matrix,\n",
    "    roc_curve, auc, roc_auc_score,\n",
    "    plot_confusion_matrix,\n",
    "    classification_report,\n",
    "    balanced_accuracy_score,\n",
    "    PrecisionRecallDisplay)\n",
    "\n",
    "from sklearn.model_selection import GroupKFold\n",
    "from sklearn.model_selection import cross_val_score\n",
    "\n",
    "# libraries for fairness\n",
    "from fairlearn.metrics import MetricFrame\n",
    "from fairlearn.postprocessing import ThresholdOptimizer\n",
    "\n",
    "\n",
    "from fairlearn.metrics import (\n",
    "    MetricFrame,\n",
    "    selection_rate, \n",
    "    demographic_parity_difference, \n",
    "    demographic_parity_ratio,\n",
    "    false_positive_rate, \n",
    "    false_negative_rate,\n",
    "    false_positive_rate_difference, \n",
    "    false_negative_rate_difference, \n",
    "    true_positive_rate, \n",
    "    true_negative_rate,\n",
    "    selection_rate,\n",
    "    count,\n",
    "    equalized_odds_difference)"
   ]
  },
  {
   "cell_type": "code",
   "execution_count": null,
   "metadata": {
    "executionInfo": {
     "elapsed": 7,
     "status": "ok",
     "timestamp": 1656240879205,
     "user": {
      "displayName": "F.F. Hohne Tarragona",
      "userId": "13565783361540206982"
     },
     "user_tz": -120
    },
    "id": "0RJSCUCOGcr8"
   },
   "outputs": [],
   "source": [
    "# Helper functions metrics\n",
    "def get_metrics_df(models_dict, y_true, group):\n",
    "    metrics_dict = {\n",
    "        \"Equalized_odds_difference\": (\n",
    "            lambda x: equalized_odds_difference(y_true, x, sensitive_features=group), True),\n",
    "        \"False negative rate difference\": (\n",
    "            lambda x: false_negative_rate_difference(y_true, x, sensitive_features=group), True),\n",
    "        \"Balanced error rate difference\": (\n",
    "            lambda x: MetricFrame(metrics=balanced_accuracy_score, y_true=y_true, y_pred=x, sensitive_features=group).difference(method='between_groups'), True),\n",
    "        \" ------\": (lambda x: \"\", True),\n",
    "        \"Demographic parity difference\": (\n",
    "            lambda x: demographic_parity_difference(y_true, x, sensitive_features=group), True),\n",
    "        \"  ------\": (lambda x: \"\", True),\n",
    "        \"Overall AUC\": (\n",
    "            lambda x: roc_auc_score(y_true, x), False),\n",
    "        \"AUC difference\": (\n",
    "            lambda x: MetricFrame(metrics=roc_auc_score, y_true=y_true, y_pred=x, sensitive_features=group).difference(method='between_groups'), False),\n",
    "    }\n",
    "    df_dict = {}\n",
    "    for metric_name, (metric_func, use_preds) in metrics_dict.items():\n",
    "        df_dict[metric_name] = [metric_func(preds) if use_preds else metric_func(scores) \n",
    "                                for model_name, (preds, scores) in models_dict.items()]\n",
    "    return pd.DataFrame.from_dict(df_dict, orient=\"index\", columns=models_dict.keys())\n",
    "\n",
    "def metric_frame (feature):\n",
    "    mf = MetricFrame({\n",
    "        'FPR': false_positive_rate,\n",
    "        'FNR': false_negative_rate,\n",
    "        'TPR': true_positive_rate,\n",
    "        'TNR': true_negative_rate, },\n",
    "        y_test, test_preds, sensitive_features = feature)\n",
    "    return mf.by_group\n",
    "\n",
    "\n",
    "def summary_as_df(name, summary):\n",
    "    a = summary.by_group\n",
    "    a['overall'] = summary.overall\n",
    "    return pd.DataFrame({name: a})"
   ]
  },
  {
   "cell_type": "markdown",
   "metadata": {
    "id": "Xwa_Y3owA_CQ"
   },
   "source": [
    "### Models set-up: test/train split"
   ]
  },
  {
   "cell_type": "code",
   "execution_count": null,
   "metadata": {
    "executionInfo": {
     "elapsed": 234,
     "status": "ok",
     "timestamp": 1656241354799,
     "user": {
      "displayName": "F.F. Hohne Tarragona",
      "userId": "13565783361540206982"
     },
     "user_tz": -120
    },
    "id": "z4Mbl0pfB3NK"
   },
   "outputs": [],
   "source": [
    "# simple model - aware (inlc. proxies)\n",
    "# set test & train data & defining age as sensitive attribute\n",
    "\n",
    "# unaware: X = df.drop(columns=['gender', 'age', 'label', 'height', 'weight'])\n",
    "\n",
    "X = df.drop(columns=['label'])\n",
    "y = df['label']\n",
    "\n",
    "A = df[['age', 'gender']]\n",
    "Gender_str = A['gender'].map({ 1:\"female\", 0:\"male\"})\n",
    "\n",
    "# for fairnes measures (inlc. A for group classification, drop age to make it unaware to other senstive attributes (fairnes through unawarenes)) - AGE \n",
    "X_train, X_test, y_train, y_test, A_train, A_test, Gender_str_train, Gender_str_test = train_test_split(\n",
    "    X, \n",
    "    y, \n",
    "    A, \n",
    "    Gender_str,\n",
    "    test_size = 0.33, \n",
    "    random_state=42)"
   ]
  },
  {
   "cell_type": "markdown",
   "metadata": {
    "id": "ed7f7mKMHwSM"
   },
   "source": [
    "### Model set-up & definition"
   ]
  },
  {
   "cell_type": "code",
   "execution_count": null,
   "metadata": {
    "executionInfo": {
     "elapsed": 8,
     "status": "ok",
     "timestamp": 1656240879207,
     "user": {
      "displayName": "F.F. Hohne Tarragona",
      "userId": "13565783361540206982"
     },
     "user_tz": -120
    },
    "id": "8hw7M_iZqCEW"
   },
   "outputs": [],
   "source": [
    "# set up model:\n",
    "classifiers = [LogisticRegression(C=1),\n",
    "               LogisticRegression(C=2),\n",
    "               SVC(kernel='rbf', gamma = 0.0526, probability = True),\n",
    "               SVC(kernel='rbf', gamma = 0.07, probability = True)]\n"
   ]
  },
  {
   "cell_type": "markdown",
   "metadata": {
    "id": "PmWXH8gtJ1kU"
   },
   "source": [
    "### Model fairness evaluation - Gender\n",
    "\n"
   ]
  },
  {
   "cell_type": "code",
   "execution_count": null,
   "metadata": {
    "id": "yNLIZlxorNVI"
   },
   "outputs": [],
   "source": [
    "  "
   ]
  },
  {
   "cell_type": "markdown",
   "metadata": {
    "id": "eGUJBAucemTQ"
   },
   "source": [
    "##### Metric Frames"
   ]
  },
  {
   "cell_type": "code",
   "execution_count": null,
   "metadata": {
    "colab": {
     "base_uri": "https://localhost:8080/"
    },
    "executionInfo": {
     "elapsed": 601,
     "status": "ok",
     "timestamp": 1656241545555,
     "user": {
      "displayName": "F.F. Hohne Tarragona",
      "userId": "13565783361540206982"
     },
     "user_tz": -120
    },
    "id": "wt3zUA7tSa6s",
    "outputId": "5db49bfb-1d5d-4de7-dff3-a42f42b553aa"
   },
   "outputs": [],
   "source": [
    "# define sensitive attributes\n",
    "gender = A_test['gender']\n",
    "\n",
    "for model in classifiers:\n",
    "  model.fit(X_train, y_train)\n",
    "\n",
    "  # scores on test set\n",
    "  y_pred = model.predict_proba(X_test)[:, 1]\n",
    "\n",
    "  # predictions (0 or 1) on test set\n",
    "  test_preds = (y_pred >= np.mean(y_train)) * 1\n",
    "\n",
    "  print(f'Gender:{chr(10)}{model}: {chr(10)} {metric_frame (gender)} {chr(10)}')"
   ]
  },
  {
   "cell_type": "markdown",
   "metadata": {
    "id": "h5MntdKYev6H"
   },
   "source": [
    "##### Fairness metrics by group (equalized odds, demographic parity difference & ratio, false negative rate difference)"
   ]
  },
  {
   "cell_type": "code",
   "execution_count": null,
   "metadata": {
    "colab": {
     "base_uri": "https://localhost:8080/"
    },
    "executionInfo": {
     "elapsed": 750,
     "status": "ok",
     "timestamp": 1656240880366,
     "user": {
      "displayName": "F.F. Hohne Tarragona",
      "userId": "13565783361540206982"
     },
     "user_tz": -120
    },
    "id": "Eq_lqK5bW6Um",
    "outputId": "50a611f5-1c01-4b06-9d60-00caf7f392b5"
   },
   "outputs": [],
   "source": [
    "# Metrics \n",
    "for model in classifiers:\n",
    "  model.fit(X_train, y_train)\n",
    "  y_pred = model.predict(X_test)\n",
    "\n",
    "  # scores on test set\n",
    "  y_pred = model.predict_proba(X_test)[:, 1]\n",
    "\n",
    "  # predictions (0 or 1) on test set\n",
    "  test_preds = (y_pred >= np.mean(y_train)) * 1\n",
    "\n",
    "  models_dict = {\"Unmitigated\": (test_preds, y_pred)}\n",
    "\n",
    "  print(f'Gender:{chr(10)}{model}: {chr(10)} {get_metrics_df(models_dict, y_test, gender)} {chr(10)}')"
   ]
  },
  {
   "cell_type": "markdown",
   "metadata": {
    "id": "mY9QOqzxfZOQ"
   },
   "source": [
    "##### visualisation help"
   ]
  },
  {
   "cell_type": "code",
   "execution_count": null,
   "metadata": {
    "executionInfo": {
     "elapsed": 20,
     "status": "ok",
     "timestamp": 1656240880368,
     "user": {
      "displayName": "F.F. Hohne Tarragona",
      "userId": "13565783361540206982"
     },
     "user_tz": -120
    },
    "id": "hyzvB_ESfNgl"
   },
   "outputs": [],
   "source": [
    "# demographic disparity\n",
    "# https://github.com/fairlearn/fairlearn/blob/main/notebooks/Mitigating%20Disparities%20in%20Ranking%20from%20Binary%20Data.ipynb\n",
    "\n",
    "from IPython.display import display, HTML\n",
    "import matplotlib.pyplot as plt\n",
    "from scipy.stats import cumfreq\n",
    "\n",
    "def compare_cdfs(data, A, num_bins=100):\n",
    "    cdfs = {}\n",
    "    assert len(np.unique(A)) == 2 \n",
    "    \n",
    "    limits = ( min(data), max(data) )\n",
    "    s = 0.5 * (limits[1] - limits[0]) / (num_bins - 1)\n",
    "    limits = ( limits[0]-s, limits[1] + s)\n",
    "    \n",
    "    for a in np.unique(A):\n",
    "        subset = data[A==a]\n",
    "        \n",
    "        cdfs[a] = cumfreq(subset, numbins=num_bins, defaultreallimits=limits)\n",
    "        \n",
    "    lower_limits = [v.lowerlimit for _, v in cdfs.items()]\n",
    "    bin_sizes = [v.binsize for _,v in cdfs.items()]\n",
    "    actual_num_bins = [v.cumcount.size for _,v in cdfs.items()]\n",
    "    \n",
    "    assert len(np.unique(lower_limits)) == 1\n",
    "    assert len(np.unique(bin_sizes)) == 1\n",
    "    assert np.all([num_bins==v.cumcount.size for _,v in cdfs.items()])\n",
    "    \n",
    "    xs = lower_limits[0] + np.linspace(0, bin_sizes[0]*num_bins, num_bins)\n",
    "    \n",
    "    disparities = np.zeros(num_bins)\n",
    "    for i in range(num_bins):\n",
    "        cdf_values = np.clip([v.cumcount[i]/len(data[A==k]) for k,v in cdfs.items()],0,1)\n",
    "        disparities[i] = max(cdf_values)-min(cdf_values)  \n",
    "    \n",
    "    return xs, cdfs, disparities\n",
    "    \n",
    "    \n",
    "def plot_and_compare_cdfs(data, A, num_bins=100, loc='best'):\n",
    "    xs, cdfs, disparities = compare_cdfs(data, A, num_bins)\n",
    "    \n",
    "    for k, v in cdfs.items():\n",
    "        plt.plot(xs, v.cumcount/len(data[A==k]), label=k)\n",
    "    \n",
    "    assert disparities.argmax().size == 1\n",
    "    d_idx = disparities.argmax()\n",
    "    \n",
    "    xs_line = [xs[d_idx],xs[d_idx]]\n",
    "    counts = [v.cumcount[d_idx]/len(data[A==k]) for k, v in cdfs.items()]\n",
    "    ys_line = [min(counts), max(counts)]\n",
    "    \n",
    "    plt.plot(xs_line, ys_line, 'o--')\n",
    "    disparity_label = \"max disparity = {0:.3f}\\nat {1:0.3f}\".format(disparities[d_idx], xs[d_idx])\n",
    "    plt.text(xs[d_idx], 1, disparity_label, ha=\"right\", va=\"top\")\n",
    "    \n",
    "    plt.ylabel(\"cumulative frequency\")\n",
    "    plt.legend(loc=loc)\n",
    "    plt.show()"
   ]
  },
  {
   "cell_type": "markdown",
   "metadata": {
    "id": "iNo2PK3_fcBf"
   },
   "source": [
    "#### visualisation"
   ]
  },
  {
   "cell_type": "code",
   "execution_count": null,
   "metadata": {
    "colab": {
     "base_uri": "https://localhost:8080/",
     "height": 0
    },
    "executionInfo": {
     "elapsed": 1001,
     "status": "ok",
     "timestamp": 1656240881351,
     "user": {
      "displayName": "F.F. Hohne Tarragona",
      "userId": "13565783361540206982"
     },
     "user_tz": -120
    },
    "id": "jb3fu-SGfkam",
    "outputId": "fbb4beff-cb0a-43c4-e396-14be6879e662"
   },
   "outputs": [],
   "source": [
    "%matplotlib inline\n",
    "\n",
    "for model in classifiers:\n",
    "  model.fit(X_train, y_train)\n",
    "  y_pred = model.predict(X_test)\n",
    "\n",
    "  # scores on test set\n",
    "  y_pred = model.predict_proba(X_test)[:, 1]\n",
    "\n",
    "  # predictions (0 or 1) on test set\n",
    "  test_preds = (y_pred >= np.mean(y_train)) * 1\n",
    "\n",
    "\n",
    "  display(HTML('<span id=\"disparity_unmitigated\">'))\n",
    "  plot_and_compare_cdfs(y_pred, gender)\n",
    "  display(HTML('</span>'))"
   ]
  },
  {
   "cell_type": "markdown",
   "metadata": {
    "id": "sf3-XjExIYIF"
   },
   "source": [
    "# Debiasing the model\n",
    "\n",
    "---\n",
    "\n",
    "\n"
   ]
  },
  {
   "cell_type": "markdown",
   "metadata": {
    "id": "dELXeA6fsW5c"
   },
   "source": [
    "Are we minitating bias (removing the problematic signal) - OR adding inclusion (add singal for deasired features for a re-weighted singal improved fairness?\n",
    "\n",
    "\n",
    "Bias can come from the acutal data or the algorithm (this includes technical bias from data processing & amplified bias from the feedback loops)\n",
    "\n",
    "\n",
    "\n",
    "pre-processing: suprression, class relabeling, reweighing, data transportation, database reparis, data augmentation\n"
   ]
  },
  {
   "cell_type": "markdown",
   "metadata": {
    "id": "djEADZF-Qwi1"
   },
   "source": [
    "#### libraries and functions"
   ]
  },
  {
   "cell_type": "code",
   "execution_count": null,
   "metadata": {
    "executionInfo": {
     "elapsed": 10428,
     "status": "ok",
     "timestamp": 1656240891770,
     "user": {
      "displayName": "F.F. Hohne Tarragona",
      "userId": "13565783361540206982"
     },
     "user_tz": -120
    },
    "id": "QYfpCVXr_Nve"
   },
   "outputs": [],
   "source": [
    "import aif360\n",
    "\n",
    "from aif360.datasets import StandardDataset\n",
    "from sklearn.pipeline import make_pipeline \n",
    "from sklearn.pipeline import Pipeline\n",
    "\n",
    "# Fairness metrics\n",
    "from aif360.metrics import BinaryLabelDatasetMetric\n",
    "from aif360.metrics import DatasetMetric\n",
    "\n",
    "from aif360.metrics import ClassificationMetric\n",
    "\n",
    "# Explainers\n",
    "from aif360.explainers import MetricTextExplainer\n",
    "\n",
    "# Scalers\n",
    "from sklearn.preprocessing import StandardScaler\n",
    "\n",
    "# Bias mitigation techniques\n",
    "from aif360.algorithms.preprocessing import Reweighing\n",
    "from aif360.algorithms.inprocessing import AdversarialDebiasing\n",
    "from aif360.algorithms.inprocessing import PrejudiceRemover\n",
    "\n",
    "# fairlearn libraries\n",
    "from fairlearn.postprocessing import ThresholdOptimizer, plot_threshold_optimizer\n",
    "from fairlearn.postprocessing._interpolated_thresholder import InterpolatedThresholder\n",
    "from fairlearn.postprocessing._threshold_operation import ThresholdOperation\n",
    "\n",
    "from fairlearn.reductions import (ExponentiatedGradient, \n",
    "                                  EqualizedOdds, \n",
    "                                  ErrorRateParity)"
   ]
  },
  {
   "cell_type": "code",
   "execution_count": null,
   "metadata": {
    "executionInfo": {
     "elapsed": 12,
     "status": "ok",
     "timestamp": 1656240891772,
     "user": {
      "displayName": "F.F. Hohne Tarragona",
      "userId": "13565783361540206982"
     },
     "user_tz": -120
    },
    "id": "UhkgUbY-5SJn"
   },
   "outputs": [],
   "source": [
    "metrics = {\n",
    "    'accuracy': accuracy_score,\n",
    "    'false positive rate': false_positive_rate,\n",
    "    'false negative rate': false_negative_rate,\n",
    "    'selection rate': selection_rate,\n",
    "    'count': count,\n",
    "    'balanced error rate': balanced_accuracy_score}"
   ]
  },
  {
   "cell_type": "markdown",
   "metadata": {
    "id": "QClTGz2ADunB"
   },
   "source": [
    "#### 1. Reweigh samples (AIF360)\n",
    "\n",
    "Based on:\n",
    "1. [Correcting Unfair Binary Classification\n",
    "Models](http://arno.uvt.nl/show.cgi?fid=157880)\n",
    "\n",
    "2. [AIF360 example](https://nbviewer.org/github/IBM/AIF360/blob/master/examples/tutorial_credit_scoring.ipynb)\n"
   ]
  },
  {
   "cell_type": "code",
   "execution_count": null,
   "metadata": {
    "executionInfo": {
     "elapsed": 343,
     "status": "ok",
     "timestamp": 1656240892107,
     "user": {
      "displayName": "F.F. Hohne Tarragona",
      "userId": "13565783361540206982"
     },
     "user_tz": -120
    },
    "id": "TClA0mBrZIzg"
   },
   "outputs": [],
   "source": [
    "# set dataset in aif360 format\n",
    "ds_aif = aif360.datasets.StandardDataset (df, \n",
    "                                         label_name=\"label\",\n",
    "                                         favorable_classes = [1], \n",
    "                                         protected_attribute_names=['gender'], \n",
    "                                         privileged_classes= [lambda x: x == 0],\n",
    "                                         features_to_drop=['subject'])"
   ]
  },
  {
   "cell_type": "code",
   "execution_count": null,
   "metadata": {
    "executionInfo": {
     "elapsed": 327,
     "status": "ok",
     "timestamp": 1656241236309,
     "user": {
      "displayName": "F.F. Hohne Tarragona",
      "userId": "13565783361540206982"
     },
     "user_tz": -120
    },
    "id": "2a0RE3X1t4sM"
   },
   "outputs": [],
   "source": [
    "# test, train split\n",
    "ds_train, ds_test = ds_aif.split([0.67], shuffle=True)"
   ]
  },
  {
   "cell_type": "code",
   "execution_count": null,
   "metadata": {
    "executionInfo": {
     "elapsed": 5,
     "status": "ok",
     "timestamp": 1656241236522,
     "user": {
      "displayName": "F.F. Hohne Tarragona",
      "userId": "13565783361540206982"
     },
     "user_tz": -120
    },
    "id": "mZ4j_QdOhAl4"
   },
   "outputs": [],
   "source": [
    "# pre-processing - reweighing \n",
    "# define priviledged & unpriviledged groups\n",
    "unpriv = [{'gender': 1}]\n",
    "priv = [{'gender': 0}]\n",
    "\n",
    "\n",
    "# reweigh\n",
    "RW = Reweighing (unprivileged_groups = unpriv, \n",
    "                 privileged_groups = priv)\n",
    "\n",
    "RW_train = RW.fit_transform(ds_train)"
   ]
  },
  {
   "cell_type": "code",
   "execution_count": null,
   "metadata": {
    "executionInfo": {
     "elapsed": 8,
     "status": "ok",
     "timestamp": 1656241238802,
     "user": {
      "displayName": "F.F. Hohne Tarragona",
      "userId": "13565783361540206982"
     },
     "user_tz": -120
    },
    "id": "cuAXatUVvHKF"
   },
   "outputs": [],
   "source": [
    "# check for metric before and after transforming \n",
    "# OG ds\n",
    "metric_train = BinaryLabelDatasetMetric(ds_train,\n",
    "                                        unprivileged_groups = unpriv,\n",
    "                                        privileged_groups = priv)\n",
    "\n",
    "explainer_train = MetricTextExplainer(metric_train)\n",
    "\n",
    "# transpormed ds\n",
    "metric_transf_train = BinaryLabelDatasetMetric(RW_train,\n",
    "                                               unprivileged_groups=unpriv,\n",
    "                                               privileged_groups=priv)\n",
    "\n",
    "explainer_transf_train = MetricTextExplainer(metric_transf_train)"
   ]
  },
  {
   "cell_type": "code",
   "execution_count": null,
   "metadata": {
    "executionInfo": {
     "elapsed": 300,
     "status": "ok",
     "timestamp": 1656241482733,
     "user": {
      "displayName": "F.F. Hohne Tarragona",
      "userId": "13565783361540206982"
     },
     "user_tz": -120
    },
    "id": "r02kb1_j1DFN"
   },
   "outputs": [],
   "source": [
    "# refit rfc model & get metrics\n",
    "X_train = RW_train.features\n",
    "y_train = RW_train.labels.ravel()\n",
    "w_train = RW_train.instance_weights\n",
    "\n",
    "X_test = ds_test.features\n",
    "y_test = ds_test.labels.ravel()"
   ]
  },
  {
   "cell_type": "markdown",
   "metadata": {
    "id": "r_JCdbNYOX06"
   },
   "source": [
    "###### evaluations"
   ]
  },
  {
   "cell_type": "code",
   "execution_count": null,
   "metadata": {
    "colab": {
     "base_uri": "https://localhost:8080/",
     "height": 473
    },
    "executionInfo": {
     "elapsed": 783,
     "status": "ok",
     "timestamp": 1656241241363,
     "user": {
      "displayName": "F.F. Hohne Tarragona",
      "userId": "13565783361540206982"
     },
     "user_tz": -120
    },
    "id": "hoQDEH_uMMTe",
    "outputId": "18a986bb-3051-459b-8f5f-94c263f1223b"
   },
   "outputs": [],
   "source": [
    "# test models with reweighted data\n",
    "fig, axes = plt.subplots(nrows=1, ncols=2, figsize=(8, 4))\n",
    "\n",
    "for cls, ax in zip(classifiers, axes.flatten()):\n",
    "    dataset = RW_train\n",
    "    cls.fit(dataset.features, dataset.labels.ravel(), sample_weight = dataset.instance_weights)\n",
    "    \n",
    "    plot_confusion_matrix(cls, \n",
    "                          X_test, \n",
    "                          y_test, \n",
    "                          ax=ax, \n",
    "                          cmap='YlGnBu')\n",
    "    ax.title.set_text(type(cls).__name__)\n",
    "\n",
    "plt.tight_layout()\n",
    "plt.show()"
   ]
  },
  {
   "cell_type": "code",
   "execution_count": null,
   "metadata": {
    "colab": {
     "base_uri": "https://localhost:8080/",
     "height": 704
    },
    "executionInfo": {
     "elapsed": 582,
     "status": "error",
     "timestamp": 1656241245729,
     "user": {
      "displayName": "F.F. Hohne Tarragona",
      "userId": "13565783361540206982"
     },
     "user_tz": -120
    },
    "id": "qcXJggyrNSxR",
    "outputId": "38951088-59f4-4fef-e76c-49706a4fccb1"
   },
   "outputs": [],
   "source": [
    "for cls in classifiers:\n",
    "  cls.fit(dataset.features, dataset.labels.ravel(), sample_weight = w_train)\n",
    "  y_pred = cls.predict(X_test)\n",
    "  \n",
    "  print(f'{cls}: {chr(10)} {classification_report(y_test, y_pred)}')"
   ]
  },
  {
   "cell_type": "markdown",
   "metadata": {
    "id": "d-6CDSP_Ob2M"
   },
   "source": [
    "###### fairness evaluations"
   ]
  },
  {
   "cell_type": "code",
   "execution_count": null,
   "metadata": {
    "executionInfo": {
     "elapsed": 230,
     "status": "ok",
     "timestamp": 1656241253183,
     "user": {
      "displayName": "F.F. Hohne Tarragona",
      "userId": "13565783361540206982"
     },
     "user_tz": -120
    },
    "id": "1kOnsSj5E77j"
   },
   "outputs": [],
   "source": [
    "# define test \n",
    "ds_test_pred = ds_test.copy(deepcopy=True)"
   ]
  },
  {
   "cell_type": "code",
   "execution_count": null,
   "metadata": {
    "colab": {
     "base_uri": "https://localhost:8080/",
     "height": 1000
    },
    "executionInfo": {
     "elapsed": 4809,
     "status": "error",
     "timestamp": 1656241500159,
     "user": {
      "displayName": "F.F. Hohne Tarragona",
      "userId": "13565783361540206982"
     },
     "user_tz": -120
    },
    "id": "wS_RSJNEjnzU",
    "outputId": "191977dc-37d9-450e-d7ac-7a97f87dd9a8"
   },
   "outputs": [],
   "source": [
    "for cls in classifiers:\n",
    "  dataset = RW_train\n",
    "  cls.fit(dataset.features, dataset.labels.ravel(), sample_weight = dataset.instance_weights)\n",
    "  y_pred = cls.predict(X_test)\n",
    "  \n",
    "  # scores on test set\n",
    "  ds_test_pred.scores = cls.predict_proba(X_test)[:1]\n",
    "\n",
    "  # predictions (0 or 1) on test set\n",
    "  y_train_pred = cls.predict(X_train)\n",
    "  test_preds = (y_pred >= np.mean(y_train)) * 1\n",
    "\n",
    "  models_dict = {\"mitigated_pre-processing\": (test_preds, y_pred)}\n",
    "\n",
    "  print(f'Gender:{chr(10)}{cls}: {chr(10)} {get_metrics_df(models_dict, y_test, gender)} {chr(10)}')\n",
    "  print(f'Gender:{chr(10)}{cls}: {chr(10)} {metric_frame (gender)} {chr(10)}') \n",
    "\n",
    "\n",
    "  mf1 = MetricFrame(metrics=metrics,\n",
    "                    y_true=y_test,\n",
    "                    y_pred=y_pred,\n",
    "                    sensitive_features=gender)\n",
    "\n",
    "# The disaggregated metrics are stored in a pandas Series mf1.by_group:\n",
    "  print(f\"{cls}:\\n {mf1.by_group}\\n\")\n",
    "  print(f\"{cls} difference:\\n {mf1.difference(method='between_groups')}\\n\")\n",
    "\n",
    "\n",
    "\n",
    "  # visualize mitigated\n",
    "  mf1.by_group.plot(kind=\"bar\",\n",
    "                #   ylim=[0, 1],\n",
    "                    subplots=True,\n",
    "                    layout=[3, 3],\n",
    "                    legend=False,\n",
    "                    figsize=[12, 8],\n",
    "                    title=f'Show all metrics WESAD - reweighed - {cls}',\n",
    "                    )"
   ]
  },
  {
   "cell_type": "markdown",
   "metadata": {
    "id": "NPQBrt0BBtH9"
   },
   "source": [
    "### Fair learn - post processign methods -- wrappers\n",
    "\n"
   ]
  },
  {
   "cell_type": "code",
   "execution_count": null,
   "metadata": {
    "executionInfo": {
     "elapsed": 232,
     "status": "ok",
     "timestamp": 1656240995341,
     "user": {
      "displayName": "F.F. Hohne Tarragona",
      "userId": "13565783361540206982"
     },
     "user_tz": -120
    },
    "id": "xszIwx4z4BCN"
   },
   "outputs": [],
   "source": [
    "# set test & train data & defining age as sensitive attribute - UNAWARE\n",
    "\n",
    "X = df.drop(columns=['gender', 'age', 'label', 'height', 'weight'])\n",
    "y = df['label']\n",
    "\n",
    "A = df[['gender']]\n",
    "\n",
    "# for fairnes measures (inlc. A for group classification, drop age to make it unaware to other senstive attributes (fairnes through unawarenes)) - AGE \n",
    "X_train, X_test, y_train, y_test, A_train, A_test, Gender_str_train, Gender_str_test = train_test_split(\n",
    "    X, \n",
    "    y, \n",
    "    A, \n",
    "    Gender_str,\n",
    "    test_size = 0.33, \n",
    "    random_state=42)\n"
   ]
  },
  {
   "cell_type": "markdown",
   "metadata": {
    "id": "2gTxoeNgn1Jx"
   },
   "source": [
    "#### 3. ExponentiatedGradient - reduction (fair learn)"
   ]
  },
  {
   "cell_type": "code",
   "execution_count": null,
   "metadata": {
    "colab": {
     "base_uri": "https://localhost:8080/",
     "height": 1000
    },
    "executionInfo": {
     "elapsed": 11210,
     "status": "error",
     "timestamp": 1656241008408,
     "user": {
      "displayName": "F.F. Hohne Tarragona",
      "userId": "13565783361540206982"
     },
     "user_tz": -120
    },
    "id": "IiK-YEdgyDCm",
    "outputId": "23d4ee84-fe03-4cc1-9ec9-ec78111e2846"
   },
   "outputs": [],
   "source": [
    "for cls in classifiers:\n",
    "  expgrad_est = ExponentiatedGradient(estimator=cls,\n",
    "                                    constraints=ErrorRateParity(difference_bound=0.01)) \n",
    "  \n",
    "  expgrad_est.fit(X_train, y_train, sensitive_features=A_train)\n",
    "  \n",
    "  y_pred_reductions = expgrad_est.predict(X_test, random_state=42)\n",
    "  \n",
    "  mf_eg =  MetricFrame(metrics=metrics,\n",
    "                                       y_true=y_test,\n",
    "                                       y_pred=y_pred_reductions,\n",
    "                                       sensitive_features=A_test\n",
    "                                       ) \n",
    "  \n",
    "  df_results = pd.concat([mf_eg.by_group],\n",
    "                          keys=['ExponentiatedGradient'],\n",
    "                          axis=1)\n",
    "  \n",
    "  print (f'{cls}:{chr(10)} {df_results}{chr(10)}')\n",
    "  print(f\"{cls} difference:\\n {mf_eg.difference(method='between_groups')}\\n\")\n",
    "\n",
    "\n",
    "  # visualize mitigated\n",
    "  mf_eg.by_group.plot(\n",
    "      kind=\"bar\",\n",
    "  #    ylim=[0, 1],\n",
    "      subplots=True,\n",
    "      layout=[3, 3],\n",
    "      legend=False,\n",
    "      figsize=[12, 8],\n",
    "      title=f'Show all metrics WESAD - exponentiated gradiant - {cls}',\n",
    "  )\n",
    "\n",
    "\n",
    "\n",
    "  y_train_pred = cls.predict(X_train)\n",
    "  test_preds = (y_pred_reductions >= np.mean(y_train)) * 1\n",
    "\n",
    "  models_dict = {\"mitigated_pre-processing\": (test_preds, y_pred)}\n",
    "\n",
    "  print(f':{chr(10)}{cls}: {chr(10)} {get_metrics_df(models_dict, y_test, A_test)} {chr(10)}') "
   ]
  },
  {
   "cell_type": "markdown",
   "metadata": {
    "id": "PSX6PquRyG-v"
   },
   "source": [
    "#### 4. Thresholdoptimizer (fair learn - post processing)"
   ]
  },
  {
   "cell_type": "markdown",
   "metadata": {
    "id": "0gDoOpHZBtvB"
   },
   "source": [
    "ThresholdOptimizer takes in an exisiting (possibly pre-fit) machine learning model whose predictions act as a scoring function and identifies a separate thrceshold for each group in order to optimize some specified objective metric (such as balanced accuracy) subject to specified fairness constraints (such as false negative rate parity). Thus, the resulting classifier is just a suitably thresholded version of the underlying machinelearning model."
   ]
  },
  {
   "cell_type": "code",
   "execution_count": null,
   "metadata": {
    "colab": {
     "base_uri": "https://localhost:8080/",
     "height": 1000
    },
    "executionInfo": {
     "elapsed": 4420,
     "status": "ok",
     "timestamp": 1656240945464,
     "user": {
      "displayName": "F.F. Hohne Tarragona",
      "userId": "13565783361540206982"
     },
     "user_tz": -120
    },
    "id": "eX1oFDap6y4O",
    "outputId": "44ff4a9e-d1b9-420a-bab2-e4bdf59e7891"
   },
   "outputs": [],
   "source": [
    "for cls in classifiers:\n",
    "    unmitigated_pipeline = Pipeline(steps=[(\"model\", cls)])\n",
    "\n",
    "    unmitigated_pipeline.fit(X_train, y_train)\n",
    "    \n",
    "    postprocess_est = ThresholdOptimizer(estimator=unmitigated_pipeline,\n",
    "                                        constraints=\"equalized_odds\",\n",
    "                                        objective=\"balanced_accuracy_score\",\n",
    "                                        prefit=True,\n",
    "                                        predict_method='predict_proba')\n",
    "    \n",
    "    postprocess_est.fit(X_train, y_train, sensitive_features=A_train) # change a test in train/ test sample\n",
    "\n",
    "    y_pred_postprocess = postprocess_est.predict(X_test, sensitive_features=A_test) # gender<>age\n",
    "\n",
    "    mf_to = MetricFrame(metrics=metrics,\n",
    "                                          y_true=y_test,\n",
    "                                          y_pred=y_pred_postprocess,\n",
    "                                          sensitive_features=A_test) # gender<>age\n",
    "    \n",
    "    df_results = pd.concat([mf_to.by_group],\n",
    "                            keys=['ThresholdOptimizer'],\n",
    "                            axis=1)\n",
    "\n",
    "    print (f'{cls}:{chr(10)} {df_results}{chr(10)}')\n",
    "\n",
    "    print(f\"{cls} difference:\\n {mf_to.difference(method='between_groups')}\\n\")\n",
    "    \n",
    "    y_train_pred = cls.predict(X_train)\n",
    "    test_preds = (y_pred_postprocess >= np.mean(y_train)) * 1\n",
    "\n",
    "    models_dict = {\"mitigated_pre-processing\": (test_preds, y_pred)}\n",
    "\n",
    "    print(f':{chr(10)}{cls}: {chr(10)} {get_metrics_df(models_dict, y_test, A_test)} {chr(10)}') # change age<> gender\n",
    "\n",
    "    # visualize mitigated\n",
    "    mf_to.by_group.plot(\n",
    "        kind=\"bar\",\n",
    "    #    ylim=[0, 1],\n",
    "        subplots=True,\n",
    "        layout=[3, 3],\n",
    "        legend=False,\n",
    "        figsize=[12, 8],\n",
    "        title=f'Show all metrics WESAD - thresholdoptimizer - {cls}',\n",
    "    )\n",
    "\n",
    "\n",
    "  "
   ]
  },
  {
   "cell_type": "code",
   "execution_count": null,
   "metadata": {},
   "outputs": [],
   "source": []
  },
  {
   "cell_type": "code",
   "execution_count": null,
   "metadata": {},
   "outputs": [],
   "source": []
  }
 ],
 "metadata": {
  "colab": {
   "authorship_tag": "ABX9TyN7/z7KZ5bZH/WQlWWaazzi",
   "collapsed_sections": [
    "Vm-FuP7Wqx9F",
    "G0OplJsVq1Uf",
    "Qm0kRPE6IQ3U",
    "lOtqxcHmajJ4",
    "Xwa_Y3owA_CQ",
    "ed7f7mKMHwSM",
    "eGUJBAucemTQ",
    "h5MntdKYev6H",
    "mY9QOqzxfZOQ",
    "iNo2PK3_fcBf",
    "sf3-XjExIYIF",
    "djEADZF-Qwi1",
    "QClTGz2ADunB",
    "r_JCdbNYOX06",
    "NPQBrt0BBtH9",
    "2gTxoeNgn1Jx"
   ],
   "mount_file_id": "1Xo5TrZHHPByGzAI0Kww6NF6Y-m8mjBla",
   "name": "WESAD - Debiasing Classification Algorithms 2.0 - GENDER.ipynb",
   "provenance": [
    {
     "file_id": "1LirtLbCyNlYMmipVyfwE2c9Gw-2PueBQ",
     "timestamp": 1656237537146
    },
    {
     "file_id": "1Xo5TrZHHPByGzAI0Kww6NF6Y-m8mjBla",
     "timestamp": 1653385788019
    }
   ]
  },
  "kernelspec": {
   "display_name": "Python 3 (ipykernel)",
   "language": "python",
   "name": "python3"
  },
  "language_info": {
   "codemirror_mode": {
    "name": "ipython",
    "version": 3
   },
   "file_extension": ".py",
   "mimetype": "text/x-python",
   "name": "python",
   "nbconvert_exporter": "python",
   "pygments_lexer": "ipython3",
   "version": "3.11.0"
  }
 },
 "nbformat": 4,
 "nbformat_minor": 1
}
